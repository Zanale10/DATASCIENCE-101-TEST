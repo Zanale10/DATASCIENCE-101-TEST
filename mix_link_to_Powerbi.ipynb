{
  "nbformat": 4,
  "nbformat_minor": 0,
  "metadata": {
    "colab": {
      "provenance": [],
      "authorship_tag": "ABX9TyMC6Di9QaoQVCVzkJoC+9ni",
      "include_colab_link": true
    },
    "kernelspec": {
      "name": "python3",
      "display_name": "Python 3"
    },
    "language_info": {
      "name": "python"
    }
  },
  "cells": [
    {
      "cell_type": "markdown",
      "metadata": {
        "id": "view-in-github",
        "colab_type": "text"
      },
      "source": [
        "<a href=\"https://colab.research.google.com/github/Zanale10/DATASCIENCE-101-TEST/blob/main/mix_link_to_Powerbi.ipynb\" target=\"_parent\"><img src=\"https://colab.research.google.com/assets/colab-badge.svg\" alt=\"Open In Colab\"/></a>"
      ]
    },
    {
      "cell_type": "code",
      "source": [
        "import pandas as pd\n",
        "import glob\n",
        "import os\n",
        "\n",
        "# ✅ Folder path\n",
        "folder_path = r\"C:\\Users\\USER\\OneDrive - DANCO CAPITAL LTD\\DANCO OPERATIONS\\DANCO PRODUCTION\\2025\\FLOOR STOCK\\ACTUALS 2025\"\n",
        "\n",
        "# 1. Read all Excel files\n",
        "all_files = glob.glob(os.path.join(folder_path, \"*.xlsx\"))\n",
        "print(f\"✅ Found {len(all_files)} Excel files in Actuals folder.\")\n",
        "\n",
        "data = []\n",
        "\n",
        "for file in all_files:\n",
        "    print(f\"📂 Reading: {file}\")\n",
        "\n",
        "    try:\n",
        "        # Get available sheets\n",
        "        xl = pd.ExcelFile(file)\n",
        "        print(\"   Sheets available:\", xl.sheet_names)\n",
        "\n",
        "        # Pick sheet with \"requirement\" in name, else first sheet\n",
        "        sheet_to_read = next((s for s in xl.sheet_names if \"requirement\" in s.lower()), xl.sheet_names[0])\n",
        "\n",
        "        # Read the detected sheet\n",
        "        df = pd.read_excel(file, sheet_name=sheet_to_read)\n",
        "\n",
        "        # Set headers correctly\n",
        "        df.columns = df.iloc[0]      # First row as headers\n",
        "        df = df[1:]                  # Remove header row\n",
        "\n",
        "        # Remove cumulative rows\n",
        "        df = df[~df.iloc[:,0].astype(str).str.contains('Cumulative', case=False, na=False)]\n",
        "\n",
        "        # Add source file column\n",
        "        df[\"Source File\"] = os.path.basename(file)\n",
        "\n",
        "        data.append(df)\n",
        "\n",
        "    except Exception as e:\n",
        "        print(f\"❌ Error reading {file}: {e}\")\n",
        "\n",
        "# 2. Combine all files\n",
        "if data:\n",
        "    master_df = pd.concat(data, ignore_index=True)\n",
        "    print(f\"✅ Combined dataframe shape: {master_df.shape}\")\n",
        "\n",
        "    # 3. Convert numeric columns\n",
        "    numeric_cols = ['Planned Output', 'Actual Output', 'Material A', 'Material B', 'Scrap']\n",
        "    master_df[numeric_cols] = master_df[numeric_cols].apply(pd.to_numeric, errors='coerce')\n",
        "\n",
        "    # 4. Calculate material mix\n",
        "    master_df[\"Total Material\"] = master_df[['Material A', 'Material B']].sum(axis=1)\n",
        "    master_df[\"Material A Mix %\"] = master_df[\"Material A\"] / master_df[\"Total Material\"]\n",
        "    master_df[\"Material B Mix %\"] = master_df[\"Material B\"] / master_df[\"Total Material\"]\n",
        "\n",
        "    # 5. Calculate output variance (Actual vs Planned)\n",
        "    master_df[\"Output Variance\"] = master_df[\"Actual Output\"] - master_df[\"Planned Output\"]\n",
        "\n",
        "    # 6. Calculate material savings (Planned vs Actual usage)\n",
        "    master_df[\"Material Savings\"] = (master_df[\"Planned Output\"] - master_df[\"Actual Output\"]) * master_df[\"Material A Mix %\"]\n",
        "\n",
        "    # 7. Export cleaned file for Power BI\n",
        "    export_path = r\"C:\\Users\\USER\\DANCO CAPITAL LTD\\DANCO OPERATIONS\\ProductionMaster.csv\"\n",
        "    master_df.to_csv(export_path, index=False)\n",
        "    print(f\"✅ Data exported to: {export_path}\")\n",
        "\n",
        "else:\n",
        "    print(\"⚠ No data loaded. Check if files or sheet names are correct.\")\n"
      ],
      "metadata": {
        "colab": {
          "base_uri": "https://localhost:8080/"
        },
        "id": "QWh-1yKLqi4V",
        "outputId": "4f4e0348-181e-49e0-b206-630d061acba0"
      },
      "execution_count": 3,
      "outputs": [
        {
          "output_type": "stream",
          "name": "stdout",
          "text": [
            "✅ Found 0 Excel files in Actuals folder.\n",
            "⚠ No data loaded. Check if files or sheet names are correct.\n"
          ]
        }
      ]
    },
    {
      "cell_type": "code",
      "source": [
        "import pandas as pd\n",
        "import glob\n",
        "import os\n",
        "\n",
        "folder_path = r\"C:\\Users\\USER\\OneDrive - DANCO CAPITAL LTD\\DANCO OPERATIONS\\DANCO PRODUCTION\\2025\\FLOOR STOCK\\ACTUALS 2025\"\n",
        "all_files = glob.glob(os.path.join(folder_path, \"*.xlsx\"))\n",
        "print(f\"Found {len(all_files)} Excel files in Actuals folder.\")\n",
        "\n",
        "data = []\n",
        "\n",
        "for file in all_files:\n",
        "    try:\n",
        "        # Read file, skipping first 2 header rows\n",
        "        df = pd.read_excel(file, sheet_name=\"Mtrl Requirement\", header=2)\n",
        "\n",
        "        # Drop specific unwanted rows\n",
        "        df = df.drop(index=[16], errors='ignore')  # Row 17 (0-based index is 16)\n",
        "        df = df.drop(index=range(22, 29), errors='ignore')  # Rows 23-29 (0-based index 22-28)\n",
        "\n",
        "        # Remove rows that are completely blank\n",
        "        df = df.dropna(how='all')\n",
        "\n",
        "        # Add filename info for shift/date tracking\n",
        "        df[\"Source File\"] = os.path.basename(file)\n",
        "\n",
        "        data.append(df)\n",
        "    except Exception as e:\n",
        "        print(f\"⚠ Error reading {file}: {e}\")\n",
        "\n",
        "# Combine cleaned data\n",
        "if data:\n",
        "    master_df = pd.concat(data, ignore_index=True)\n",
        "    print(f\"✅ Combined {len(master_df)} rows successfully.\")\n",
        "\n",
        "    # Export to CSV for Power BI\n",
        "    master_df.to_csv(r\"C:\\Users\\USER\\OneDrive - DANCO CAPITAL LTD\\ProductionMaster.csv\", index=False)\n",
        "    print(\"📂 Cleaned data exported for Power BI.\")\n",
        "else:\n",
        "    print(\"⚠ No valid data found.\")\n"
      ],
      "metadata": {
        "colab": {
          "base_uri": "https://localhost:8080/"
        },
        "id": "oolalO5Uk3Fj",
        "outputId": "5fa30827-0780-4678-c867-1aa1d645879e"
      },
      "execution_count": 4,
      "outputs": [
        {
          "output_type": "stream",
          "name": "stdout",
          "text": [
            "Found 0 Excel files in Actuals folder.\n",
            "⚠ No valid data found.\n"
          ]
        }
      ]
    },
    {
      "cell_type": "code",
      "source": [
        "import pandas as pd\n",
        "import glob\n",
        "import os\n",
        "\n",
        "folder_path = r\"C:\\Users\\USER\\OneDrive - DANCO CAPITAL LTD\\DANCO OPERATIONS\\DANCO PRODUCTION\\2025\\FLOOR STOCK\\ACTUALS 2025\"\n",
        "all_files = glob.glob(os.path.join(folder_path, \"*.xlsx\"))\n",
        "print(f\"Found {len(all_files)} Excel files in Actuals folder.\")\n",
        "\n",
        "data = []\n",
        "\n",
        "for file in all_files:\n",
        "    try:\n",
        "        # Read file, skipping first 2 rows (headers)\n",
        "        df = pd.read_excel(file, sheet_name=\"Mtrl Requirement\", header=2)\n",
        "\n",
        "        # Remove unnecessary rows\n",
        "        df = df.drop(index=[16], errors='ignore')  # Row 17 cumulative\n",
        "        df = df.drop(index=range(22, 29), errors='ignore')  # Rows 23-29\n",
        "        df = df.dropna(how='all')\n",
        "\n",
        "        # Convert numeric columns safely\n",
        "        numeric_cols = ['Planned Output', 'Actual Output', 'Material A', 'Material B']\n",
        "        df[numeric_cols] = df[numeric_cols].apply(pd.to_numeric, errors='coerce')\n",
        "\n",
        "        # Calculate actual material mix\n",
        "        df[\"Total Material Used\"] = df[['Material A', 'Material B']].sum(axis=1)\n",
        "        df[\"Material A Mix %\"] = df[\"Material A\"] / df[\"Total Material Used\"]\n",
        "        df[\"Material B Mix %\"] = df[\"Material B\"] / df[\"Total Material Used\"]\n",
        "\n",
        "        # Add filename for shift/date tracking\n",
        "        df[\"Source File\"] = os.path.basename(file)\n",
        "\n",
        "        data.append(df)\n",
        "    except Exception as e:\n",
        "        print(f\"⚠ Error reading {file}: {e}\")\n",
        "\n",
        "# Combine all files\n",
        "if data:\n",
        "    master_df = pd.concat(data, ignore_index=True)\n",
        "    print(f\"✅ Combined {len(master_df)} rows successfully.\")\n",
        "\n",
        "    # OPTIONAL: Join with planned mix/cost data (if available)\n",
        "    # Example: master_df = master_df.merge(planned_mix_df, on=\"Job/Shift ID\", how=\"left\")\n",
        "\n",
        "    # Export cleaned dataset for Power BI\n",
        "    master_df.to_csv(r\"C:\\Users\\USER\\OneDrive - DANCO CAPITAL LTD\\ProductionMaster.csv\", index=False)\n",
        "    print(\"📂 Cleaned data exported for Power BI.\")\n",
        "else:\n",
        "    print(\"⚠ No valid data found.\")\n"
      ],
      "metadata": {
        "colab": {
          "base_uri": "https://localhost:8080/"
        },
        "id": "MYTWF9u6mCGc",
        "outputId": "9e32adca-c7ab-4225-ce3c-0ca3a3871044"
      },
      "execution_count": 5,
      "outputs": [
        {
          "output_type": "stream",
          "name": "stdout",
          "text": [
            "Found 0 Excel files in Actuals folder.\n",
            "⚠ No valid data found.\n"
          ]
        }
      ]
    }
  ]
}