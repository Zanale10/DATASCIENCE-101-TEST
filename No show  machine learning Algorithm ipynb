{
  "nbformat": 4,
  "nbformat_minor": 0,
  "metadata": {
    "colab": {
      "provenance": [],
      "authorship_tag": "ABX9TyOZ0vYYU/qbISQUQtbC6ca6",
      "include_colab_link": true
    },
    "kernelspec": {
      "name": "python3",
      "display_name": "Python 3"
    },
    "language_info": {
      "name": "python"
    }
  },
  "cells": [
    {
      "cell_type": "markdown",
      "metadata": {
        "id": "view-in-github",
        "colab_type": "text"
      },
      "source": [
        "<a href=\"https://colab.research.google.com/github/Zanale10/DATASCIENCE-101-TEST/blob/main/No%20show%20%20machine%20learning%20Algorithm%20ipynb\" target=\"_parent\"><img src=\"https://colab.research.google.com/assets/colab-badge.svg\" alt=\"Open In Colab\"/></a>"
      ]
    },
    {
      "cell_type": "markdown",
      "source": [
        "DSA 6101:PRINCIPLES OF DATA SCIENCE\n",
        "\n",
        "\n",
        "GROUP 5\n",
        "\n",
        "\n",
        "JOHN ALLAN-25/04382\n",
        "\n",
        "\n",
        "ZANALE RAQUEL-25/01875\n",
        "\n",
        "\n",
        "HAKIZIMANA SONIA-25/03907\n",
        "\n",
        "\n",
        "STEPHEN LEKUCHULA-"
      ],
      "metadata": {
        "id": "spJrLCJ8Mv2b"
      }
    },
    {
      "cell_type": "markdown",
      "source": [
        "Downloading data set from Kaggle"
      ],
      "metadata": {
        "id": "uaQXaVVQvTWL"
      }
    },
    {
      "cell_type": "code",
      "source": [
        "import kagglehub\n",
        "\n",
        "# Download latest version\n",
        "path = kagglehub.dataset_download(\"joniarroba/noshowappointments\")\n",
        "\n",
        "print(\"Path to dataset files:\", path)"
      ],
      "metadata": {
        "colab": {
          "base_uri": "https://localhost:8080/"
        },
        "id": "K3pC1pFZxWZu",
        "outputId": "2a47a2ba-755d-4bb2-fbd0-21292378081f"
      },
      "execution_count": 1,
      "outputs": [
        {
          "output_type": "stream",
          "name": "stdout",
          "text": [
            "Downloading from https://www.kaggle.com/api/v1/datasets/download/joniarroba/noshowappointments?dataset_version_number=5...\n"
          ]
        },
        {
          "output_type": "stream",
          "name": "stderr",
          "text": [
            "100%|██████████| 2.40M/2.40M [00:00<00:00, 88.4MB/s]"
          ]
        },
        {
          "output_type": "stream",
          "name": "stdout",
          "text": [
            "Extracting files...\n",
            "Path to dataset files: /root/.cache/kagglehub/datasets/joniarroba/noshowappointments/versions/5\n"
          ]
        },
        {
          "output_type": "stream",
          "name": "stderr",
          "text": [
            "\n"
          ]
        }
      ]
    },
    {
      "cell_type": "code",
      "source": [
        "import os\n",
        "\n",
        "path = \"/root/.cache/kagglehub/datasets/joniarroba/noshowappointments/versions/5\"\n",
        "os.listdir(path)\n",
        "\n"
      ],
      "metadata": {
        "colab": {
          "base_uri": "https://localhost:8080/"
        },
        "id": "VJ3HrwDdys6t",
        "outputId": "ad26ced7-71ee-4cc7-f2ac-84dd9acc4c81"
      },
      "execution_count": 2,
      "outputs": [
        {
          "output_type": "execute_result",
          "data": {
            "text/plain": [
              "['KaggleV2-May-2016.csv']"
            ]
          },
          "metadata": {},
          "execution_count": 2
        }
      ]
    },
    {
      "cell_type": "code",
      "source": [
        "import pandas as pd\n",
        "\n",
        "df = pd.read_csv(path + \"/KaggleV2-May-2016.csv\")\n",
        "df.head()\n"
      ],
      "metadata": {
        "colab": {
          "base_uri": "https://localhost:8080/",
          "height": 206
        },
        "id": "qFYg7v4By532",
        "outputId": "675c6b1e-a850-47b0-814b-e7889e87357b"
      },
      "execution_count": 3,
      "outputs": [
        {
          "output_type": "execute_result",
          "data": {
            "text/plain": [
              "      PatientId  AppointmentID Gender          ScheduledDay  \\\n",
              "0  2.987250e+13        5642903      F  2016-04-29T18:38:08Z   \n",
              "1  5.589978e+14        5642503      M  2016-04-29T16:08:27Z   \n",
              "2  4.262962e+12        5642549      F  2016-04-29T16:19:04Z   \n",
              "3  8.679512e+11        5642828      F  2016-04-29T17:29:31Z   \n",
              "4  8.841186e+12        5642494      F  2016-04-29T16:07:23Z   \n",
              "\n",
              "         AppointmentDay  Age      Neighbourhood  Scholarship  Hipertension  \\\n",
              "0  2016-04-29T00:00:00Z   62    JARDIM DA PENHA            0             1   \n",
              "1  2016-04-29T00:00:00Z   56    JARDIM DA PENHA            0             0   \n",
              "2  2016-04-29T00:00:00Z   62      MATA DA PRAIA            0             0   \n",
              "3  2016-04-29T00:00:00Z    8  PONTAL DE CAMBURI            0             0   \n",
              "4  2016-04-29T00:00:00Z   56    JARDIM DA PENHA            0             1   \n",
              "\n",
              "   Diabetes  Alcoholism  Handcap  SMS_received No-show  \n",
              "0         0           0        0             0      No  \n",
              "1         0           0        0             0      No  \n",
              "2         0           0        0             0      No  \n",
              "3         0           0        0             0      No  \n",
              "4         1           0        0             0      No  "
            ],
            "text/html": [
              "\n",
              "  <div id=\"df-46f9cee8-5b9b-4da5-9a47-e15ace0b5f7a\" class=\"colab-df-container\">\n",
              "    <div>\n",
              "<style scoped>\n",
              "    .dataframe tbody tr th:only-of-type {\n",
              "        vertical-align: middle;\n",
              "    }\n",
              "\n",
              "    .dataframe tbody tr th {\n",
              "        vertical-align: top;\n",
              "    }\n",
              "\n",
              "    .dataframe thead th {\n",
              "        text-align: right;\n",
              "    }\n",
              "</style>\n",
              "<table border=\"1\" class=\"dataframe\">\n",
              "  <thead>\n",
              "    <tr style=\"text-align: right;\">\n",
              "      <th></th>\n",
              "      <th>PatientId</th>\n",
              "      <th>AppointmentID</th>\n",
              "      <th>Gender</th>\n",
              "      <th>ScheduledDay</th>\n",
              "      <th>AppointmentDay</th>\n",
              "      <th>Age</th>\n",
              "      <th>Neighbourhood</th>\n",
              "      <th>Scholarship</th>\n",
              "      <th>Hipertension</th>\n",
              "      <th>Diabetes</th>\n",
              "      <th>Alcoholism</th>\n",
              "      <th>Handcap</th>\n",
              "      <th>SMS_received</th>\n",
              "      <th>No-show</th>\n",
              "    </tr>\n",
              "  </thead>\n",
              "  <tbody>\n",
              "    <tr>\n",
              "      <th>0</th>\n",
              "      <td>2.987250e+13</td>\n",
              "      <td>5642903</td>\n",
              "      <td>F</td>\n",
              "      <td>2016-04-29T18:38:08Z</td>\n",
              "      <td>2016-04-29T00:00:00Z</td>\n",
              "      <td>62</td>\n",
              "      <td>JARDIM DA PENHA</td>\n",
              "      <td>0</td>\n",
              "      <td>1</td>\n",
              "      <td>0</td>\n",
              "      <td>0</td>\n",
              "      <td>0</td>\n",
              "      <td>0</td>\n",
              "      <td>No</td>\n",
              "    </tr>\n",
              "    <tr>\n",
              "      <th>1</th>\n",
              "      <td>5.589978e+14</td>\n",
              "      <td>5642503</td>\n",
              "      <td>M</td>\n",
              "      <td>2016-04-29T16:08:27Z</td>\n",
              "      <td>2016-04-29T00:00:00Z</td>\n",
              "      <td>56</td>\n",
              "      <td>JARDIM DA PENHA</td>\n",
              "      <td>0</td>\n",
              "      <td>0</td>\n",
              "      <td>0</td>\n",
              "      <td>0</td>\n",
              "      <td>0</td>\n",
              "      <td>0</td>\n",
              "      <td>No</td>\n",
              "    </tr>\n",
              "    <tr>\n",
              "      <th>2</th>\n",
              "      <td>4.262962e+12</td>\n",
              "      <td>5642549</td>\n",
              "      <td>F</td>\n",
              "      <td>2016-04-29T16:19:04Z</td>\n",
              "      <td>2016-04-29T00:00:00Z</td>\n",
              "      <td>62</td>\n",
              "      <td>MATA DA PRAIA</td>\n",
              "      <td>0</td>\n",
              "      <td>0</td>\n",
              "      <td>0</td>\n",
              "      <td>0</td>\n",
              "      <td>0</td>\n",
              "      <td>0</td>\n",
              "      <td>No</td>\n",
              "    </tr>\n",
              "    <tr>\n",
              "      <th>3</th>\n",
              "      <td>8.679512e+11</td>\n",
              "      <td>5642828</td>\n",
              "      <td>F</td>\n",
              "      <td>2016-04-29T17:29:31Z</td>\n",
              "      <td>2016-04-29T00:00:00Z</td>\n",
              "      <td>8</td>\n",
              "      <td>PONTAL DE CAMBURI</td>\n",
              "      <td>0</td>\n",
              "      <td>0</td>\n",
              "      <td>0</td>\n",
              "      <td>0</td>\n",
              "      <td>0</td>\n",
              "      <td>0</td>\n",
              "      <td>No</td>\n",
              "    </tr>\n",
              "    <tr>\n",
              "      <th>4</th>\n",
              "      <td>8.841186e+12</td>\n",
              "      <td>5642494</td>\n",
              "      <td>F</td>\n",
              "      <td>2016-04-29T16:07:23Z</td>\n",
              "      <td>2016-04-29T00:00:00Z</td>\n",
              "      <td>56</td>\n",
              "      <td>JARDIM DA PENHA</td>\n",
              "      <td>0</td>\n",
              "      <td>1</td>\n",
              "      <td>1</td>\n",
              "      <td>0</td>\n",
              "      <td>0</td>\n",
              "      <td>0</td>\n",
              "      <td>No</td>\n",
              "    </tr>\n",
              "  </tbody>\n",
              "</table>\n",
              "</div>\n",
              "    <div class=\"colab-df-buttons\">\n",
              "\n",
              "  <div class=\"colab-df-container\">\n",
              "    <button class=\"colab-df-convert\" onclick=\"convertToInteractive('df-46f9cee8-5b9b-4da5-9a47-e15ace0b5f7a')\"\n",
              "            title=\"Convert this dataframe to an interactive table.\"\n",
              "            style=\"display:none;\">\n",
              "\n",
              "  <svg xmlns=\"http://www.w3.org/2000/svg\" height=\"24px\" viewBox=\"0 -960 960 960\">\n",
              "    <path d=\"M120-120v-720h720v720H120Zm60-500h600v-160H180v160Zm220 220h160v-160H400v160Zm0 220h160v-160H400v160ZM180-400h160v-160H180v160Zm440 0h160v-160H620v160ZM180-180h160v-160H180v160Zm440 0h160v-160H620v160Z\"/>\n",
              "  </svg>\n",
              "    </button>\n",
              "\n",
              "  <style>\n",
              "    .colab-df-container {\n",
              "      display:flex;\n",
              "      gap: 12px;\n",
              "    }\n",
              "\n",
              "    .colab-df-convert {\n",
              "      background-color: #E8F0FE;\n",
              "      border: none;\n",
              "      border-radius: 50%;\n",
              "      cursor: pointer;\n",
              "      display: none;\n",
              "      fill: #1967D2;\n",
              "      height: 32px;\n",
              "      padding: 0 0 0 0;\n",
              "      width: 32px;\n",
              "    }\n",
              "\n",
              "    .colab-df-convert:hover {\n",
              "      background-color: #E2EBFA;\n",
              "      box-shadow: 0px 1px 2px rgba(60, 64, 67, 0.3), 0px 1px 3px 1px rgba(60, 64, 67, 0.15);\n",
              "      fill: #174EA6;\n",
              "    }\n",
              "\n",
              "    .colab-df-buttons div {\n",
              "      margin-bottom: 4px;\n",
              "    }\n",
              "\n",
              "    [theme=dark] .colab-df-convert {\n",
              "      background-color: #3B4455;\n",
              "      fill: #D2E3FC;\n",
              "    }\n",
              "\n",
              "    [theme=dark] .colab-df-convert:hover {\n",
              "      background-color: #434B5C;\n",
              "      box-shadow: 0px 1px 3px 1px rgba(0, 0, 0, 0.15);\n",
              "      filter: drop-shadow(0px 1px 2px rgba(0, 0, 0, 0.3));\n",
              "      fill: #FFFFFF;\n",
              "    }\n",
              "  </style>\n",
              "\n",
              "    <script>\n",
              "      const buttonEl =\n",
              "        document.querySelector('#df-46f9cee8-5b9b-4da5-9a47-e15ace0b5f7a button.colab-df-convert');\n",
              "      buttonEl.style.display =\n",
              "        google.colab.kernel.accessAllowed ? 'block' : 'none';\n",
              "\n",
              "      async function convertToInteractive(key) {\n",
              "        const element = document.querySelector('#df-46f9cee8-5b9b-4da5-9a47-e15ace0b5f7a');\n",
              "        const dataTable =\n",
              "          await google.colab.kernel.invokeFunction('convertToInteractive',\n",
              "                                                    [key], {});\n",
              "        if (!dataTable) return;\n",
              "\n",
              "        const docLinkHtml = 'Like what you see? Visit the ' +\n",
              "          '<a target=\"_blank\" href=https://colab.research.google.com/notebooks/data_table.ipynb>data table notebook</a>'\n",
              "          + ' to learn more about interactive tables.';\n",
              "        element.innerHTML = '';\n",
              "        dataTable['output_type'] = 'display_data';\n",
              "        await google.colab.output.renderOutput(dataTable, element);\n",
              "        const docLink = document.createElement('div');\n",
              "        docLink.innerHTML = docLinkHtml;\n",
              "        element.appendChild(docLink);\n",
              "      }\n",
              "    </script>\n",
              "  </div>\n",
              "\n",
              "\n",
              "    <div id=\"df-0b237062-d8c0-491c-854c-0cbe261d5151\">\n",
              "      <button class=\"colab-df-quickchart\" onclick=\"quickchart('df-0b237062-d8c0-491c-854c-0cbe261d5151')\"\n",
              "                title=\"Suggest charts\"\n",
              "                style=\"display:none;\">\n",
              "\n",
              "<svg xmlns=\"http://www.w3.org/2000/svg\" height=\"24px\"viewBox=\"0 0 24 24\"\n",
              "     width=\"24px\">\n",
              "    <g>\n",
              "        <path d=\"M19 3H5c-1.1 0-2 .9-2 2v14c0 1.1.9 2 2 2h14c1.1 0 2-.9 2-2V5c0-1.1-.9-2-2-2zM9 17H7v-7h2v7zm4 0h-2V7h2v10zm4 0h-2v-4h2v4z\"/>\n",
              "    </g>\n",
              "</svg>\n",
              "      </button>\n",
              "\n",
              "<style>\n",
              "  .colab-df-quickchart {\n",
              "      --bg-color: #E8F0FE;\n",
              "      --fill-color: #1967D2;\n",
              "      --hover-bg-color: #E2EBFA;\n",
              "      --hover-fill-color: #174EA6;\n",
              "      --disabled-fill-color: #AAA;\n",
              "      --disabled-bg-color: #DDD;\n",
              "  }\n",
              "\n",
              "  [theme=dark] .colab-df-quickchart {\n",
              "      --bg-color: #3B4455;\n",
              "      --fill-color: #D2E3FC;\n",
              "      --hover-bg-color: #434B5C;\n",
              "      --hover-fill-color: #FFFFFF;\n",
              "      --disabled-bg-color: #3B4455;\n",
              "      --disabled-fill-color: #666;\n",
              "  }\n",
              "\n",
              "  .colab-df-quickchart {\n",
              "    background-color: var(--bg-color);\n",
              "    border: none;\n",
              "    border-radius: 50%;\n",
              "    cursor: pointer;\n",
              "    display: none;\n",
              "    fill: var(--fill-color);\n",
              "    height: 32px;\n",
              "    padding: 0;\n",
              "    width: 32px;\n",
              "  }\n",
              "\n",
              "  .colab-df-quickchart:hover {\n",
              "    background-color: var(--hover-bg-color);\n",
              "    box-shadow: 0 1px 2px rgba(60, 64, 67, 0.3), 0 1px 3px 1px rgba(60, 64, 67, 0.15);\n",
              "    fill: var(--button-hover-fill-color);\n",
              "  }\n",
              "\n",
              "  .colab-df-quickchart-complete:disabled,\n",
              "  .colab-df-quickchart-complete:disabled:hover {\n",
              "    background-color: var(--disabled-bg-color);\n",
              "    fill: var(--disabled-fill-color);\n",
              "    box-shadow: none;\n",
              "  }\n",
              "\n",
              "  .colab-df-spinner {\n",
              "    border: 2px solid var(--fill-color);\n",
              "    border-color: transparent;\n",
              "    border-bottom-color: var(--fill-color);\n",
              "    animation:\n",
              "      spin 1s steps(1) infinite;\n",
              "  }\n",
              "\n",
              "  @keyframes spin {\n",
              "    0% {\n",
              "      border-color: transparent;\n",
              "      border-bottom-color: var(--fill-color);\n",
              "      border-left-color: var(--fill-color);\n",
              "    }\n",
              "    20% {\n",
              "      border-color: transparent;\n",
              "      border-left-color: var(--fill-color);\n",
              "      border-top-color: var(--fill-color);\n",
              "    }\n",
              "    30% {\n",
              "      border-color: transparent;\n",
              "      border-left-color: var(--fill-color);\n",
              "      border-top-color: var(--fill-color);\n",
              "      border-right-color: var(--fill-color);\n",
              "    }\n",
              "    40% {\n",
              "      border-color: transparent;\n",
              "      border-right-color: var(--fill-color);\n",
              "      border-top-color: var(--fill-color);\n",
              "    }\n",
              "    60% {\n",
              "      border-color: transparent;\n",
              "      border-right-color: var(--fill-color);\n",
              "    }\n",
              "    80% {\n",
              "      border-color: transparent;\n",
              "      border-right-color: var(--fill-color);\n",
              "      border-bottom-color: var(--fill-color);\n",
              "    }\n",
              "    90% {\n",
              "      border-color: transparent;\n",
              "      border-bottom-color: var(--fill-color);\n",
              "    }\n",
              "  }\n",
              "</style>\n",
              "\n",
              "      <script>\n",
              "        async function quickchart(key) {\n",
              "          const quickchartButtonEl =\n",
              "            document.querySelector('#' + key + ' button');\n",
              "          quickchartButtonEl.disabled = true;  // To prevent multiple clicks.\n",
              "          quickchartButtonEl.classList.add('colab-df-spinner');\n",
              "          try {\n",
              "            const charts = await google.colab.kernel.invokeFunction(\n",
              "                'suggestCharts', [key], {});\n",
              "          } catch (error) {\n",
              "            console.error('Error during call to suggestCharts:', error);\n",
              "          }\n",
              "          quickchartButtonEl.classList.remove('colab-df-spinner');\n",
              "          quickchartButtonEl.classList.add('colab-df-quickchart-complete');\n",
              "        }\n",
              "        (() => {\n",
              "          let quickchartButtonEl =\n",
              "            document.querySelector('#df-0b237062-d8c0-491c-854c-0cbe261d5151 button');\n",
              "          quickchartButtonEl.style.display =\n",
              "            google.colab.kernel.accessAllowed ? 'block' : 'none';\n",
              "        })();\n",
              "      </script>\n",
              "    </div>\n",
              "\n",
              "    </div>\n",
              "  </div>\n"
            ],
            "application/vnd.google.colaboratory.intrinsic+json": {
              "type": "dataframe",
              "variable_name": "df"
            }
          },
          "metadata": {},
          "execution_count": 3
        }
      ]
    },
    {
      "cell_type": "markdown",
      "source": [
        "\n",
        "\n",
        "**Clearly define the problem and business objectives.**\n",
        "\n",
        " The county health department is experiencing high rates of patient no-shows at scheduled clinic appointments, leading to inefficient use of medical resources, increased waiting times, and decreased access to care. This project aims to develop a machine learning model that can accurately predict whether a patient will show up for their scheduled appointment, using historical appointment data. By identifying high-risk patients in advance, the healthcare system can take proactive measures to reduce no-show rates, optimize clinic operations, and improve patient outcomes.\n",
        "\n",
        "**Primary Business objectives**\n",
        "To build and deploy a machine learning model that predicts whether a patient will attend\n",
        "secondary:\n",
        "\n",
        "\n",
        "1.Efficiency improvement in scheduling-not considering availability of the patient\n",
        "\n",
        "\n",
        "2.policy descions around descions so that incase the patient doesnt show up there is a guideline\n",
        "\n",
        "\n",
        "3.Reminders shared proactively to all the patients.\n",
        "\n",
        "**Secondary Business Objectives**\n",
        "\n",
        "\n",
        " To improve resource allocation, and enhance overall efficiency and quality of healthcare service delivery."
      ],
      "metadata": {
        "id": "68cHnUYb3j5M"
      }
    },
    {
      "cell_type": "markdown",
      "source": [
        "**Explain the potential impact of your model on the healthcare system and stakeholders.**\n",
        "\n",
        "1.Patients-The model has the potential to greatly improve patients health by sending timely reminders for appointments, check-ups, or medication refills. These gentle nudges help ensure that patients get the care they need when they need it reducing the risk of complications from missed or delayed visits.\n",
        "\n",
        "\n",
        "2.County health department-When patients report on time for services, it leads to better planning and optimized use of available resources such as medications, staff time, and clinic space. This increased efficiency not only helps in reducing wastage but also improves service coverage.\n",
        "\n",
        "\n",
        "3.health care providers-For doctors and nurses timely patient attendance improves productivity as it reduces the stress of managing unpredictable schedules.\n",
        "\n",
        "\n",
        "4.IT team/Personell-intergrate predictive tools with existing health information systems which ensures continuity of data.\n"
      ],
      "metadata": {
        "id": "f4Ti9fsK6YmF"
      }
    },
    {
      "cell_type": "markdown",
      "source": [
        "**Identify key performance indicators (KPIs) for project success.**\n",
        "\n",
        "\n",
        "**MODEL KPIs**\n",
        "\n",
        "1.Accuracy-use total proportions to measure how accurate it was based on the total\n",
        "\n",
        "$Accuracy = \\frac{\\text{Correct Predictions}}{\\text{Total Predictions}}$\n",
        "\n",
        "\n",
        "\n",
        "2.precision-how precise were the no shows compared to predicted that is Out of all patients the model predicted as no-shows, how many truly didn’t show up?\n",
        "\n",
        "**Precision** = $\\frac{\\text{True Positives}}{\\text{True Positives} + \\text{False Positives}}$\n",
        "\n",
        "\n",
        " where:\n",
        "True Positives (TP) = predicted no-show, actually no-show\n",
        "\n",
        "False Positives (FP) = predicted no-show, actually showed up\n",
        "\n",
        "False Negatives (FN) = predicted show-up, actually no-show\n",
        "\n",
        "\n",
        "\n",
        "3.Recall (Sensitivity) – How many actual no-shows were correctly predicted.\n",
        "\n",
        "**Recall (Sensitivity)** = $\\frac{\\text{True Positives}}{\\text{True Positives} + \\text{False Negatives}}$\n",
        "\n",
        "\n",
        "4.F1-Score – This metric helps strike a balance between precision and recall, making sure the model performs well on both sides.For example, if the model predicts many patients as potential no-shows, but most of them would have actually shown up, that’s low precision we’ve wrongly flagged patients and could strain trust in the system.\n",
        "\n",
        "**F1-Score** = $\\frac{2 \\times \\text{Precision} \\times \\text{Recall}}{\\text{Precision} + \\text{Recall}}$\n",
        "\n",
        "\n",
        "5.No show rate-This refers to the percentage of scheduled patients who do not show up for their appointments.Reduced rates signify better performance\n",
        "\n",
        "6. Number of Patients per Doctor-Shows the average number of patients each doctor handles. Affected by no-shows, this metric helps measure doctor workload and planning.\n",
        "\n",
        "7. Patient Satisfaction via Surveys\n",
        "8.Model Adoption Rate by Facilities-The more the users embracing the models use in facilities after deployment the better the success rate.\n",
        "\n"
      ],
      "metadata": {
        "id": "S5GKdALc9tDg"
      }
    },
    {
      "cell_type": "markdown",
      "source": [
        "\n",
        "The dataset consists of Data taken from a medical Health Centre in Brazil. It contains records of medical appointments and shows whether patients showed up for there appointments."
      ],
      "metadata": {
        "id": "bl-vJm0riYaB"
      }
    },
    {
      "cell_type": "code",
      "source": [
        "print(df.dtypes)\n"
      ],
      "metadata": {
        "colab": {
          "base_uri": "https://localhost:8080/"
        },
        "id": "DLSuXbPCugfJ",
        "outputId": "1f97599b-368a-4caa-9f32-f19fda880618"
      },
      "execution_count": 4,
      "outputs": [
        {
          "output_type": "stream",
          "name": "stdout",
          "text": [
            "PatientId         float64\n",
            "AppointmentID       int64\n",
            "Gender             object\n",
            "ScheduledDay       object\n",
            "AppointmentDay     object\n",
            "Age                 int64\n",
            "Neighbourhood      object\n",
            "Scholarship         int64\n",
            "Hipertension        int64\n",
            "Diabetes            int64\n",
            "Alcoholism          int64\n",
            "Handcap             int64\n",
            "SMS_received        int64\n",
            "No-show            object\n",
            "dtype: object\n"
          ]
        }
      ]
    },
    {
      "cell_type": "code",
      "source": [
        "print(df.isnull().sum())\n"
      ],
      "metadata": {
        "colab": {
          "base_uri": "https://localhost:8080/"
        },
        "id": "bkEn3c4Zt09d",
        "outputId": "e44374f7-fb25-4abb-86ba-6039215514b7"
      },
      "execution_count": 5,
      "outputs": [
        {
          "output_type": "stream",
          "name": "stdout",
          "text": [
            "PatientId         0\n",
            "AppointmentID     0\n",
            "Gender            0\n",
            "ScheduledDay      0\n",
            "AppointmentDay    0\n",
            "Age               0\n",
            "Neighbourhood     0\n",
            "Scholarship       0\n",
            "Hipertension      0\n",
            "Diabetes          0\n",
            "Alcoholism        0\n",
            "Handcap           0\n",
            "SMS_received      0\n",
            "No-show           0\n",
            "dtype: int64\n"
          ]
        }
      ]
    },
    {
      "cell_type": "code",
      "source": [
        "print(df.describe())\n"
      ],
      "metadata": {
        "colab": {
          "base_uri": "https://localhost:8080/"
        },
        "id": "P5XZB0mPuVIr",
        "outputId": "65c61f51-63db-4b07-b6ba-9c2a5ae3541a"
      },
      "execution_count": 6,
      "outputs": [
        {
          "output_type": "stream",
          "name": "stdout",
          "text": [
            "          PatientId  AppointmentID            Age    Scholarship  \\\n",
            "count  1.105270e+05   1.105270e+05  110527.000000  110527.000000   \n",
            "mean   1.474963e+14   5.675305e+06      37.088874       0.098266   \n",
            "std    2.560949e+14   7.129575e+04      23.110205       0.297675   \n",
            "min    3.921784e+04   5.030230e+06      -1.000000       0.000000   \n",
            "25%    4.172614e+12   5.640286e+06      18.000000       0.000000   \n",
            "50%    3.173184e+13   5.680573e+06      37.000000       0.000000   \n",
            "75%    9.439172e+13   5.725524e+06      55.000000       0.000000   \n",
            "max    9.999816e+14   5.790484e+06     115.000000       1.000000   \n",
            "\n",
            "        Hipertension       Diabetes     Alcoholism        Handcap  \\\n",
            "count  110527.000000  110527.000000  110527.000000  110527.000000   \n",
            "mean        0.197246       0.071865       0.030400       0.022248   \n",
            "std         0.397921       0.258265       0.171686       0.161543   \n",
            "min         0.000000       0.000000       0.000000       0.000000   \n",
            "25%         0.000000       0.000000       0.000000       0.000000   \n",
            "50%         0.000000       0.000000       0.000000       0.000000   \n",
            "75%         0.000000       0.000000       0.000000       0.000000   \n",
            "max         1.000000       1.000000       1.000000       4.000000   \n",
            "\n",
            "        SMS_received  \n",
            "count  110527.000000  \n",
            "mean        0.321026  \n",
            "std         0.466873  \n",
            "min         0.000000  \n",
            "25%         0.000000  \n",
            "50%         0.000000  \n",
            "75%         1.000000  \n",
            "max         1.000000  \n"
          ]
        }
      ]
    },
    {
      "cell_type": "code",
      "source": [
        "import pandas as pd\n",
        "import seaborn as sns\n",
        "import matplotlib.pyplot as plt\n",
        "\n",
        "# Assuming your dataframe is called df\n",
        "correlation_matrix = df.corr(numeric_only=True)\n"
      ],
      "metadata": {
        "id": "0CJ3ytorOrM_"
      },
      "execution_count": 11,
      "outputs": []
    },
    {
      "cell_type": "code",
      "source": [
        "print(correlation_matrix)\n"
      ],
      "metadata": {
        "colab": {
          "base_uri": "https://localhost:8080/"
        },
        "id": "Iui2Hm0IOu45",
        "outputId": "43d8c935-e514-40b0-f50e-fb6641a8bf4f"
      },
      "execution_count": 12,
      "outputs": [
        {
          "output_type": "stream",
          "name": "stdout",
          "text": [
            "               PatientId  AppointmentID       Age  Scholarship  Hipertension  \\\n",
            "PatientId       1.000000       0.004039 -0.004139    -0.002880     -0.006441   \n",
            "AppointmentID   0.004039       1.000000 -0.019126     0.022615      0.012752   \n",
            "Age            -0.004139      -0.019126  1.000000    -0.092457      0.504586   \n",
            "Scholarship    -0.002880       0.022615 -0.092457     1.000000     -0.019729   \n",
            "Hipertension   -0.006441       0.012752  0.504586    -0.019729      1.000000   \n",
            "Diabetes        0.001605       0.022628  0.292391    -0.024894      0.433086   \n",
            "Alcoholism      0.011011       0.032944  0.095811     0.035022      0.087971   \n",
            "Handcap        -0.007916       0.014106  0.078033    -0.008586      0.080083   \n",
            "SMS_received   -0.009749      -0.256618  0.012643     0.001194     -0.006267   \n",
            "\n",
            "               Diabetes  Alcoholism   Handcap  SMS_received  \n",
            "PatientId      0.001605    0.011011 -0.007916     -0.009749  \n",
            "AppointmentID  0.022628    0.032944  0.014106     -0.256618  \n",
            "Age            0.292391    0.095811  0.078033      0.012643  \n",
            "Scholarship   -0.024894    0.035022 -0.008586      0.001194  \n",
            "Hipertension   0.433086    0.087971  0.080083     -0.006267  \n",
            "Diabetes       1.000000    0.018474  0.057530     -0.014550  \n",
            "Alcoholism     0.018474    1.000000  0.004648     -0.026147  \n",
            "Handcap        0.057530    0.004648  1.000000     -0.024161  \n",
            "SMS_received  -0.014550   -0.026147 -0.024161      1.000000  \n"
          ]
        }
      ]
    },
    {
      "cell_type": "markdown",
      "source": [
        "From the descriptive Statistics we can establish the following insights;\n",
        "The data was collected from a sample of 110527 patients.\n",
        "The age distribution ranges from -1 to 115 years Most patients fall between 18 (25th percentile) and 55 (75th percentile), with a median and mean of approximately 37 years. This suggests more oung and middle aged patients.\n",
        "The cases considered as high risk in this case (Hipertension,Diabetes,     Alcoholism) are not as high ,Hipertension is recorded as the highest with a mean of 19.7%   \n",
        "Only 32% of the patients recorded having received SMS reminders\n",
        "\n",
        "From the correlation matrix we are able to deduce that age and the high risk conditions have a high correlation ;age and Hipertension are at 0.5,age and Diabetes are at 0.2, also the chances of a patient having more than one high risk condition is observed as high with Hipertension and Diabetes at 0.4 correlation.Most of the other variables have near zero values suggesting low to no correlation"
      ],
      "metadata": {
        "id": "Yj1APSNuFPaM"
      }
    },
    {
      "cell_type": "markdown",
      "source": [
        "Graphical Visualization"
      ],
      "metadata": {
        "id": "EM-bKvJeMATn"
      }
    },
    {
      "cell_type": "code",
      "source": [
        "import seaborn as sns\n",
        "import matplotlib.pyplot as plt\n",
        "\n",
        "# No-show counts\n",
        "sns.countplot(data=df, x='No-show')\n",
        "plt.title('Show vs No-Show Count')\n",
        "plt.show()"
      ],
      "metadata": {
        "colab": {
          "base_uri": "https://localhost:8080/",
          "height": 472
        },
        "id": "Gn0o8cdgMtYk",
        "outputId": "fe7f6bee-f7dd-4639-fe7e-bd3d50183e03"
      },
      "execution_count": 8,
      "outputs": [
        {
          "output_type": "display_data",
          "data": {
            "text/plain": [
              "<Figure size 640x480 with 1 Axes>"
            ],
            "image/png": "[encoded data removed]"
          },
          "metadata": {}
        }
      ]
    },
    {
      "cell_type": "code",
      "source": [
        "# Age distribution\n",
        "sns.histplot(df['Age'], bins=30, kde=True)\n",
        "plt.title('Patient Age Distribution')\n",
        "plt.show()"
      ],
      "metadata": {
        "colab": {
          "base_uri": "https://localhost:8080/",
          "height": 472
        },
        "id": "sxhGF4GrM7qW",
        "outputId": "8c3ecb47-542b-43c5-860b-bf0a44cbf3bf"
      },
      "execution_count": 9,
      "outputs": [
        {
          "output_type": "display_data",
          "data": {
            "text/plain": [
              "<Figure size 640x480 with 1 Axes>"
            ],
            "image/png": "[encoded data removed]"
          },
          "metadata": {}
        }
      ]
    },
    {
      "cell_type": "code",
      "source": [
        "# Gender breakdown\n",
        "sns.countplot(data=df, x='Gender', hue='No-show')\n",
        "plt.title('Gender vs No-Show')\n",
        "plt.show()"
      ],
      "metadata": {
        "colab": {
          "base_uri": "https://localhost:8080/",
          "height": 472
        },
        "id": "oujWucUWNIyf",
        "outputId": "6e2c38c6-2d03-4e8e-d233-590575967644"
      },
      "execution_count": 10,
      "outputs": [
        {
          "output_type": "display_data",
          "data": {
            "text/plain": [
              "<Figure size 640x480 with 1 Axes>"
            ],
            "image/png": "[encoded data removed]"
          },
          "metadata": {}
        }
      ]
    },
    {
      "cell_type": "code",
      "source": [
        "import pandas as pd             #Create a preprocessing pipeline in Python using pandas and scikit-learn\n",
        "import numpy as np\n",
        "from sklearn.pipeline import Pipeline\n",
        "from sklearn.compose import ColumnTransformer\n",
        "from sklearn.preprocessing import StandardScaler, OneHotEncoder\n",
        "from sklearn.impute import SimpleImputer\n",
        "from sklearn.decomposition import PCA\n",
        "from sklearn.ensemble import RandomForestClassifier\n",
        "import matplotlib.pyplot as plt\n",
        "import seaborn as sns\n"
      ],
      "metadata": {
        "id": "T-bhZ8UGTtob"
      },
      "execution_count": 13,
      "outputs": []
    },
    {
      "cell_type": "code",
      "source": [
        "df = pd.read_csv(path + \"/KaggleV2-May-2016.csv\")"
      ],
      "metadata": {
        "id": "JHCA06EYT05q"
      },
      "execution_count": 14,
      "outputs": []
    },
    {
      "cell_type": "code",
      "source": [
        "# View missing values\n",
        "print(df.isnull().sum())\n",
        "\n",
        "# Drop columns with too many missing values (if any)\n",
        "df = df.dropna(axis=1, thresh=len(df) * 0.8)\n",
        "\n",
        "# Or fill them\n",
        "num_imputer = SimpleImputer(strategy='median')\n",
        "cat_imputer = SimpleImputer(strategy='most_frequent')\n"
      ],
      "metadata": {
        "colab": {
          "base_uri": "https://localhost:8080/"
        },
        "id": "ZFwEqsHoUBAI",
        "outputId": "7ddafd26-bcbe-4c26-ca8f-3c98ac65140e"
      },
      "execution_count": 15,
      "outputs": [
        {
          "output_type": "stream",
          "name": "stdout",
          "text": [
            "PatientId         0\n",
            "AppointmentID     0\n",
            "Gender            0\n",
            "ScheduledDay      0\n",
            "AppointmentDay    0\n",
            "Age               0\n",
            "Neighbourhood     0\n",
            "Scholarship       0\n",
            "Hipertension      0\n",
            "Diabetes          0\n",
            "Alcoholism        0\n",
            "Handcap           0\n",
            "SMS_received      0\n",
            "No-show           0\n",
            "dtype: int64\n"
          ]
        }
      ]
    },
    {
      "cell_type": "code",
      "source": [
        "def remove_outliers_iqr(df, column):\n",
        "    Q1 = df[column].quantile(0.25)\n",
        "    Q3 = df[column].quantile(0.75)\n",
        "    IQR = Q3 - Q1\n",
        "    lower_bound = Q1 - 1.5 * IQR\n",
        "    upper_bound = Q3 + 1.5 * IQR\n",
        "    return df[(df[column] >= lower_bound) & (df[column] <= upper_bound)]\n",
        "\n",
        "# Example: Treat 'Age'\n",
        "df = remove_outliers_iqr(df, 'Age')\n"
      ],
      "metadata": {
        "id": "U8Zn1HmmUD-q"
      },
      "execution_count": 16,
      "outputs": []
    },
    {
      "cell_type": "markdown",
      "source": [
        "When you're working with machine learning models, most algorithms can only work with numbers so we convert variables lik male and female into integers"
      ],
      "metadata": {
        "id": "j887QE3gWZI-"
      }
    },
    {
      "cell_type": "code",
      "source": [
        "import sklearn\n",
        "from sklearn.preprocessing import OneHotEncoder           #convert variables like male and female into numbers\n",
        "\n",
        "if sklearn.__version__ >= \"1.2\":\n",
        "    cat_encoder = OneHotEncoder(handle_unknown='ignore', sparse_output=False)\n",
        "else:\n",
        "    cat_encoder = OneHotEncoder(handle_unknown='ignore', sparse=False)\n",
        "\n"
      ],
      "metadata": {
        "id": "8ZzmqXlaUIg6"
      },
      "execution_count": 18,
      "outputs": []
    },
    {
      "cell_type": "markdown",
      "source": [
        "TThen we turn Column names into meaningful numerical features for preprocessing.\n",
        "\n"
      ],
      "metadata": {
        "id": "FTP-Q331WA6k"
      }
    },
    {
      "cell_type": "code",
      "source": [
        "numerical_cols = df.select_dtypes(include=['int64', 'float64']).columns.tolist()\n",
        "\n",
        "# Drop ID-like columns if needed\n",
        "numerical_cols = [col for col in numerical_cols if col not in ['PatientId', 'AppointmentID']]\n"
      ],
      "metadata": {
        "id": "j4wz0wIZUetM"
      },
      "execution_count": 19,
      "outputs": []
    },
    {
      "cell_type": "markdown",
      "source": [
        "Machine learning models can’t handle missing values or strings. This preprocessor:\n",
        "\n",
        "Cleans up the data\n",
        "\n",
        "Makes everything numeric\n",
        "\n",
        "Ensures all features are on the same scale"
      ],
      "metadata": {
        "id": "qgwhZJeUV5yv"
      }
    },
    {
      "cell_type": "code",
      "source": [
        "# Column transformer- preprocessing pipeline in machine learning\n",
        "preprocessor = ColumnTransformer(\n",
        "    transformers=[\n",
        "        ('num', Pipeline([\n",
        "            ('imputer', num_imputer),\n",
        "            ('scaler', StandardScaler())\n",
        "        ]), numerical_cols),\n",
        "\n",
        "        ('cat', Pipeline([\n",
        "            ('imputer', cat_imputer),\n",
        "            ('encoder', cat_encoder)\n",
        "        ]), categorical_cols)\n",
        "    ])\n"
      ],
      "metadata": {
        "id": "wNDYqSmZVhWh"
      },
      "execution_count": 20,
      "outputs": []
    },
    {
      "cell_type": "code",
      "source": [
        "pca = PCA(n_components=0.95)  # keep 95% variance\n",
        "pipeline = Pipeline(steps=[\n",
        "    ('preprocessor', preprocessor),\n",
        "    ('pca', pca)\n",
        "])\n"
      ],
      "metadata": {
        "id": "VF84rSTZXFIL"
      },
      "execution_count": 21,
      "outputs": []
    },
    {
      "cell_type": "code",
      "source": [
        "print(df.columns.tolist())\n"
      ],
      "metadata": {
        "colab": {
          "base_uri": "https://localhost:8080/"
        },
        "id": "4WW8mB3sYnjj",
        "outputId": "052e62ee-0143-4178-ff5a-8a418babf393"
      },
      "execution_count": 24,
      "outputs": [
        {
          "output_type": "stream",
          "name": "stdout",
          "text": [
            "['PatientId', 'AppointmentID', 'Gender', 'ScheduledDay', 'AppointmentDay', 'Age', 'Neighbourhood', 'Scholarship', 'Hipertension', 'Diabetes', 'Alcoholism', 'Handcap', 'SMS_received', 'No-show']\n"
          ]
        }
      ]
    },
    {
      "cell_type": "code",
      "source": [
        "numerical_cols = df.select_dtypes(include=['int64', 'float64']).columns.tolist()\n",
        "numerical_cols = [col for col in numerical_cols if col not in ['PatientId', 'AppointmentID', 'No-show']]  # make sure 'No-show' is NOT here\n",
        "\n",
        "categorical_cols = df.select_dtypes(include=['object', 'category']).columns.tolist()\n",
        "categorical_cols = [col for col in categorical_cols if col != 'No-show']  # make sure it's not here either\n"
      ],
      "metadata": {
        "id": "cHUC8Y2-ZSYy"
      },
      "execution_count": 27,
      "outputs": []
    },
    {
      "cell_type": "code",
      "source": [
        "print(numerical_cols)\n",
        "print(categorical_cols)\n"
      ],
      "metadata": {
        "colab": {
          "base_uri": "https://localhost:8080/"
        },
        "id": "uUukyLdUZxkp",
        "outputId": "36ef74ff-98f0-4edd-9f80-f4bbf0c04504"
      },
      "execution_count": 30,
      "outputs": [
        {
          "output_type": "stream",
          "name": "stdout",
          "text": [
            "['Age', 'Scholarship', 'Hipertension', 'Diabetes', 'Alcoholism', 'Handcap', 'SMS_received']\n",
            "['Gender', 'ScheduledDay', 'AppointmentDay', 'Neighbourhood']\n"
          ]
        }
      ]
    },
    {
      "cell_type": "code",
      "source": [
        "from sklearn.compose import ColumnTransformer\n",
        "from sklearn.pipeline import Pipeline\n",
        "from sklearn.impute import SimpleImputer\n",
        "from sklearn.preprocessing import StandardScaler, OneHotEncoder\n",
        "import pandas as pd"
      ],
      "metadata": {
        "id": "nlh_IYmyaMRh"
      },
      "execution_count": 31,
      "outputs": []
    },
    {
      "cell_type": "code",
      "source": [
        "df_cleaned = df.drop(['PatientId', 'AppointmentID'], axis=1)\n",
        "X = df_cleaned.drop('No-show', axis=1)\n",
        "y = df_cleaned['No-show'].map({'No': 0, 'Yes': 1})  # encode target"
      ],
      "metadata": {
        "id": "aG0eMvQ2aNeF"
      },
      "execution_count": 32,
      "outputs": []
    },
    {
      "cell_type": "code",
      "source": [
        "numerical_cols = X.select_dtypes(include=['int64', 'float64']).columns.tolist()\n",
        "categorical_cols = X.select_dtypes(include=['object', 'category']).columns.tolist()"
      ],
      "metadata": {
        "id": "js47OG0saR1Y"
      },
      "execution_count": 33,
      "outputs": []
    },
    {
      "cell_type": "code",
      "source": [
        "num_pipeline = Pipeline([\n",
        "    ('imputer', SimpleImputer(strategy='median')),\n",
        "    ('scaler', StandardScaler())\n",
        "])"
      ],
      "metadata": {
        "id": "2WpONeeLaYCW"
      },
      "execution_count": 34,
      "outputs": []
    },
    {
      "cell_type": "code",
      "source": [
        "cat_pipeline = Pipeline([\n",
        "    ('imputer', SimpleImputer(strategy='most_frequent')),\n",
        "    ('encoder', OneHotEncoder(handle_unknown='ignore', sparse_output=False))  # For sklearn >= 1.2\n",
        "])"
      ],
      "metadata": {
        "id": "881CbYg4ac3O"
      },
      "execution_count": 35,
      "outputs": []
    },
    {
      "cell_type": "code",
      "source": [
        "preprocessor = ColumnTransformer(transformers=[\n",
        "    ('num', num_pipeline, numerical_cols),\n",
        "    ('cat', cat_pipeline, categorical_cols)\n",
        "])"
      ],
      "metadata": {
        "id": "BseKSdUyahra"
      },
      "execution_count": 36,
      "outputs": []
    },
    {
      "cell_type": "code",
      "source": [
        "preprocessor.fit(X)"
      ],
      "metadata": {
        "colab": {
          "base_uri": "https://localhost:8080/",
          "height": 141
        },
        "id": "1I6-s3iMalWv",
        "outputId": "e6be9177-1468-4c20-dcd0-6f6da75d53df"
      },
      "execution_count": 1,
      "outputs": [
        {
          "output_type": "error",
          "ename": "NameError",
          "evalue": "name 'preprocessor' is not defined",
          "traceback": [
            "\u001b[0;31m---------------------------------------------------------------------------\u001b[0m",
            "\u001b[0;31mNameError\u001b[0m                                 Traceback (most recent call last)",
            "\u001b[0;32m/tmp/ipython-input-1-1152230607.py\u001b[0m in \u001b[0;36m<cell line: 0>\u001b[0;34m()\u001b[0m\n\u001b[0;32m----> 1\u001b[0;31m \u001b[0mpreprocessor\u001b[0m\u001b[0;34m.\u001b[0m\u001b[0mfit\u001b[0m\u001b[0;34m(\u001b[0m\u001b[0mX\u001b[0m\u001b[0;34m)\u001b[0m\u001b[0;34m\u001b[0m\u001b[0;34m\u001b[0m\u001b[0m\n\u001b[0m",
            "\u001b[0;31mNameError\u001b[0m: name 'preprocessor' is not defined"
          ]
        }
      ]
    }
  ]
}