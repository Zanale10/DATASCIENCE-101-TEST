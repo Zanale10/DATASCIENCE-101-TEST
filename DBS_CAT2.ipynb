{
  "nbformat": 4,
  "nbformat_minor": 0,
  "metadata": {
    "colab": {
      "provenance": [],
      "authorship_tag": "ABX9TyOmj/RVB2ieAanwP0Yz0BBk",
      "include_colab_link": true
    },
    "kernelspec": {
      "name": "python3",
      "display_name": "Python 3"
    },
    "language_info": {
      "name": "python"
    }
  },
  "cells": [
    {
      "cell_type": "markdown",
      "metadata": {
        "id": "view-in-github",
        "colab_type": "text"
      },
      "source": [
        "<a href=\"https://colab.research.google.com/github/Zanale10/DATASCIENCE-101-TEST/blob/main/DBS_CAT2.ipynb\" target=\"_parent\"><img src=\"https://colab.research.google.com/assets/colab-badge.svg\" alt=\"Open In Colab\"/></a>"
      ]
    },
    {
      "cell_type": "markdown",
      "source": [
        "ZANALE RAQUEL ONYANGO\n",
        "25/01875\n",
        "PRINCIPLES OF DATA SCIENCE CAT2"
      ],
      "metadata": {
        "id": "x0wTH5aC8kMF"
      }
    },
    {
      "cell_type": "markdown",
      "source": [
        "Conceptual Questions\n",
        "1.\tWhat is the role of a programming environment like Jupyter or RStudio in data science workflows?\n",
        "They are   programming environments which are used in Data cleaning, Machine learning and storytelling Statistical analysis; Jupyter supports Python, R and others while RStudio supports programming languages like R and Python\n",
        "\n",
        "2.\tCompare Anaconda with pip/virtualenv for managing environments and packages.\n",
        "Anaconda handles both Python and non-Python packages whereas pip/virtualenv only handles python packages.\n",
        "Anaconda is better at resolving dependencies while pip/virtualenv may need manual fixes\n",
        "\n",
        "3.\tWhy is version control important in collaborative data science projects?\n",
        "Version control really matters in collaborative data science projects because It helps track changes in the code, so you always know what was changed, when, and by who. It also makes collaboration across teams easier since everyone can work on the same project without accidentally messing up each other’s work. And there’s always a backup with the full work history, so nothing gets lost.\n",
        "\n",
        "\n"
      ],
      "metadata": {
        "id": "JAi8VqkR8qHd"
      }
    }
  ]
}