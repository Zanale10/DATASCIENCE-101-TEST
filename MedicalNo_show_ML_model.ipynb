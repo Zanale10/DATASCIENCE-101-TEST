{
  "cells": [
    {
      "cell_type": "markdown",
      "metadata": {
        "id": "view-in-github",
        "colab_type": "text"
      },
      "source": [
        "<a href=\"https://colab.research.google.com/github/Zanale10/DATASCIENCE-101-TEST/blob/main/MedicalNo_show_ML_model.ipynb\" target=\"_parent\"><img src=\"https://colab.research.google.com/assets/colab-badge.svg\" alt=\"Open In Colab\"/></a>"
      ]
    },
    {
      "cell_type": "markdown",
      "metadata": {
        "id": "spJrLCJ8Mv2b"
      },
      "source": [
        "DSA 6101:PRINCIPLES OF DATA SCIENCE\n",
        "\n",
        "\n",
        "GROUP 5\n",
        "\n",
        "\n",
        "JOHN ALLAN-25/04382\n",
        "\n",
        "\n",
        "ZANALE RAQUEL-25/01875\n",
        "\n",
        "\n",
        "HAKIZIMANA SONIA-25/03907\n",
        "\n",
        "\n",
        "STEPHEN LEKUCHULA-"
      ]
    },
    {
      "cell_type": "markdown",
      "metadata": {
        "id": "uaQXaVVQvTWL"
      },
      "source": [
        "Downloading data set from Kaggle"
      ]
    },
    {
      "cell_type": "code",
      "execution_count": 3,
      "metadata": {
        "colab": {
          "base_uri": "https://localhost:8080/"
        },
        "id": "K3pC1pFZxWZu",
        "outputId": "ce9c0168-1bc1-498c-8b3d-f9714247b6ad"
      },
      "outputs": [
        {
          "output_type": "stream",
          "name": "stdout",
          "text": [
            "Downloading from https://www.kaggle.com/api/v1/datasets/download/joniarroba/noshowappointments?dataset_version_number=5...\n"
          ]
        },
        {
          "output_type": "stream",
          "name": "stderr",
          "text": [
            "100%|██████████| 2.40M/2.40M [00:00<00:00, 101MB/s]"
          ]
        },
        {
          "output_type": "stream",
          "name": "stdout",
          "text": [
            "Extracting files...\n",
            "Path to dataset files: /root/.cache/kagglehub/datasets/joniarroba/noshowappointments/versions/5\n"
          ]
        },
        {
          "output_type": "stream",
          "name": "stderr",
          "text": [
            "\n"
          ]
        }
      ],
      "source": [
        "import kagglehub\n",
        "\n",
        "# Download latest version\n",
        "path = kagglehub.dataset_download(\"joniarroba/noshowappointments\")\n",
        "\n",
        "print(\"Path to dataset files:\", path)"
      ]
    },
    {
      "cell_type": "code",
      "execution_count": 4,
      "metadata": {
        "colab": {
          "base_uri": "https://localhost:8080/"
        },
        "id": "VJ3HrwDdys6t",
        "outputId": "9fa4c4dc-b246-4e94-f6b3-c1f9d3c82adc"
      },
      "outputs": [
        {
          "output_type": "execute_result",
          "data": {
            "text/plain": [
              "['KaggleV2-May-2016.csv']"
            ]
          },
          "metadata": {},
          "execution_count": 4
        }
      ],
      "source": [
        "import os\n",
        "\n",
        "path = \"/root/.cache/kagglehub/datasets/joniarroba/noshowappointments/versions/5\"\n",
        "os.listdir(path)\n",
        "\n"
      ]
    },
    {
      "cell_type": "code",
      "execution_count": 5,
      "metadata": {
        "colab": {
          "base_uri": "https://localhost:8080/",
          "height": 206
        },
        "id": "qFYg7v4By532",
        "outputId": "06fbc392-46a2-4445-f296-c426109083d6"
      },
      "outputs": [
        {
          "output_type": "execute_result",
          "data": {
            "text/plain": [
              "      PatientId  AppointmentID Gender          ScheduledDay  \\\n",
              "0  2.987250e+13        5642903      F  2016-04-29T18:38:08Z   \n",
              "1  5.589978e+14        5642503      M  2016-04-29T16:08:27Z   \n",
              "2  4.262962e+12        5642549      F  2016-04-29T16:19:04Z   \n",
              "3  8.679512e+11        5642828      F  2016-04-29T17:29:31Z   \n",
              "4  8.841186e+12        5642494      F  2016-04-29T16:07:23Z   \n",
              "\n",
              "         AppointmentDay  Age      Neighbourhood  Scholarship  Hipertension  \\\n",
              "0  2016-04-29T00:00:00Z   62    JARDIM DA PENHA            0             1   \n",
              "1  2016-04-29T00:00:00Z   56    JARDIM DA PENHA            0             0   \n",
              "2  2016-04-29T00:00:00Z   62      MATA DA PRAIA            0             0   \n",
              "3  2016-04-29T00:00:00Z    8  PONTAL DE CAMBURI            0             0   \n",
              "4  2016-04-29T00:00:00Z   56    JARDIM DA PENHA            0             1   \n",
              "\n",
              "   Diabetes  Alcoholism  Handcap  SMS_received No-show  \n",
              "0         0           0        0             0      No  \n",
              "1         0           0        0             0      No  \n",
              "2         0           0        0             0      No  \n",
              "3         0           0        0             0      No  \n",
              "4         1           0        0             0      No  "
            ],
            "text/html": [
              "\n",
              "  <div id=\"df-6a59c3a5-6913-43a7-86be-d0ba917af9c3\" class=\"colab-df-container\">\n",
              "    <div>\n",
              "<style scoped>\n",
              "    .dataframe tbody tr th:only-of-type {\n",
              "        vertical-align: middle;\n",
              "    }\n",
              "\n",
              "    .dataframe tbody tr th {\n",
              "        vertical-align: top;\n",
              "    }\n",
              "\n",
              "    .dataframe thead th {\n",
              "        text-align: right;\n",
              "    }\n",
              "</style>\n",
              "<table border=\"1\" class=\"dataframe\">\n",
              "  <thead>\n",
              "    <tr style=\"text-align: right;\">\n",
              "      <th></th>\n",
              "      <th>PatientId</th>\n",
              "      <th>AppointmentID</th>\n",
              "      <th>Gender</th>\n",
              "      <th>ScheduledDay</th>\n",
              "      <th>AppointmentDay</th>\n",
              "      <th>Age</th>\n",
              "      <th>Neighbourhood</th>\n",
              "      <th>Scholarship</th>\n",
              "      <th>Hipertension</th>\n",
              "      <th>Diabetes</th>\n",
              "      <th>Alcoholism</th>\n",
              "      <th>Handcap</th>\n",
              "      <th>SMS_received</th>\n",
              "      <th>No-show</th>\n",
              "    </tr>\n",
              "  </thead>\n",
              "  <tbody>\n",
              "    <tr>\n",
              "      <th>0</th>\n",
              "      <td>2.987250e+13</td>\n",
              "      <td>5642903</td>\n",
              "      <td>F</td>\n",
              "      <td>2016-04-29T18:38:08Z</td>\n",
              "      <td>2016-04-29T00:00:00Z</td>\n",
              "      <td>62</td>\n",
              "      <td>JARDIM DA PENHA</td>\n",
              "      <td>0</td>\n",
              "      <td>1</td>\n",
              "      <td>0</td>\n",
              "      <td>0</td>\n",
              "      <td>0</td>\n",
              "      <td>0</td>\n",
              "      <td>No</td>\n",
              "    </tr>\n",
              "    <tr>\n",
              "      <th>1</th>\n",
              "      <td>5.589978e+14</td>\n",
              "      <td>5642503</td>\n",
              "      <td>M</td>\n",
              "      <td>2016-04-29T16:08:27Z</td>\n",
              "      <td>2016-04-29T00:00:00Z</td>\n",
              "      <td>56</td>\n",
              "      <td>JARDIM DA PENHA</td>\n",
              "      <td>0</td>\n",
              "      <td>0</td>\n",
              "      <td>0</td>\n",
              "      <td>0</td>\n",
              "      <td>0</td>\n",
              "      <td>0</td>\n",
              "      <td>No</td>\n",
              "    </tr>\n",
              "    <tr>\n",
              "      <th>2</th>\n",
              "      <td>4.262962e+12</td>\n",
              "      <td>5642549</td>\n",
              "      <td>F</td>\n",
              "      <td>2016-04-29T16:19:04Z</td>\n",
              "      <td>2016-04-29T00:00:00Z</td>\n",
              "      <td>62</td>\n",
              "      <td>MATA DA PRAIA</td>\n",
              "      <td>0</td>\n",
              "      <td>0</td>\n",
              "      <td>0</td>\n",
              "      <td>0</td>\n",
              "      <td>0</td>\n",
              "      <td>0</td>\n",
              "      <td>No</td>\n",
              "    </tr>\n",
              "    <tr>\n",
              "      <th>3</th>\n",
              "      <td>8.679512e+11</td>\n",
              "      <td>5642828</td>\n",
              "      <td>F</td>\n",
              "      <td>2016-04-29T17:29:31Z</td>\n",
              "      <td>2016-04-29T00:00:00Z</td>\n",
              "      <td>8</td>\n",
              "      <td>PONTAL DE CAMBURI</td>\n",
              "      <td>0</td>\n",
              "      <td>0</td>\n",
              "      <td>0</td>\n",
              "      <td>0</td>\n",
              "      <td>0</td>\n",
              "      <td>0</td>\n",
              "      <td>No</td>\n",
              "    </tr>\n",
              "    <tr>\n",
              "      <th>4</th>\n",
              "      <td>8.841186e+12</td>\n",
              "      <td>5642494</td>\n",
              "      <td>F</td>\n",
              "      <td>2016-04-29T16:07:23Z</td>\n",
              "      <td>2016-04-29T00:00:00Z</td>\n",
              "      <td>56</td>\n",
              "      <td>JARDIM DA PENHA</td>\n",
              "      <td>0</td>\n",
              "      <td>1</td>\n",
              "      <td>1</td>\n",
              "      <td>0</td>\n",
              "      <td>0</td>\n",
              "      <td>0</td>\n",
              "      <td>No</td>\n",
              "    </tr>\n",
              "  </tbody>\n",
              "</table>\n",
              "</div>\n",
              "    <div class=\"colab-df-buttons\">\n",
              "\n",
              "  <div class=\"colab-df-container\">\n",
              "    <button class=\"colab-df-convert\" onclick=\"convertToInteractive('df-6a59c3a5-6913-43a7-86be-d0ba917af9c3')\"\n",
              "            title=\"Convert this dataframe to an interactive table.\"\n",
              "            style=\"display:none;\">\n",
              "\n",
              "  <svg xmlns=\"http://www.w3.org/2000/svg\" height=\"24px\" viewBox=\"0 -960 960 960\">\n",
              "    <path d=\"M120-120v-720h720v720H120Zm60-500h600v-160H180v160Zm220 220h160v-160H400v160Zm0 220h160v-160H400v160ZM180-400h160v-160H180v160Zm440 0h160v-160H620v160ZM180-180h160v-160H180v160Zm440 0h160v-160H620v160Z\"/>\n",
              "  </svg>\n",
              "    </button>\n",
              "\n",
              "  <style>\n",
              "    .colab-df-container {\n",
              "      display:flex;\n",
              "      gap: 12px;\n",
              "    }\n",
              "\n",
              "    .colab-df-convert {\n",
              "      background-color: #E8F0FE;\n",
              "      border: none;\n",
              "      border-radius: 50%;\n",
              "      cursor: pointer;\n",
              "      display: none;\n",
              "      fill: #1967D2;\n",
              "      height: 32px;\n",
              "      padding: 0 0 0 0;\n",
              "      width: 32px;\n",
              "    }\n",
              "\n",
              "    .colab-df-convert:hover {\n",
              "      background-color: #E2EBFA;\n",
              "      box-shadow: 0px 1px 2px rgba(60, 64, 67, 0.3), 0px 1px 3px 1px rgba(60, 64, 67, 0.15);\n",
              "      fill: #174EA6;\n",
              "    }\n",
              "\n",
              "    .colab-df-buttons div {\n",
              "      margin-bottom: 4px;\n",
              "    }\n",
              "\n",
              "    [theme=dark] .colab-df-convert {\n",
              "      background-color: #3B4455;\n",
              "      fill: #D2E3FC;\n",
              "    }\n",
              "\n",
              "    [theme=dark] .colab-df-convert:hover {\n",
              "      background-color: #434B5C;\n",
              "      box-shadow: 0px 1px 3px 1px rgba(0, 0, 0, 0.15);\n",
              "      filter: drop-shadow(0px 1px 2px rgba(0, 0, 0, 0.3));\n",
              "      fill: #FFFFFF;\n",
              "    }\n",
              "  </style>\n",
              "\n",
              "    <script>\n",
              "      const buttonEl =\n",
              "        document.querySelector('#df-6a59c3a5-6913-43a7-86be-d0ba917af9c3 button.colab-df-convert');\n",
              "      buttonEl.style.display =\n",
              "        google.colab.kernel.accessAllowed ? 'block' : 'none';\n",
              "\n",
              "      async function convertToInteractive(key) {\n",
              "        const element = document.querySelector('#df-6a59c3a5-6913-43a7-86be-d0ba917af9c3');\n",
              "        const dataTable =\n",
              "          await google.colab.kernel.invokeFunction('convertToInteractive',\n",
              "                                                    [key], {});\n",
              "        if (!dataTable) return;\n",
              "\n",
              "        const docLinkHtml = 'Like what you see? Visit the ' +\n",
              "          '<a target=\"_blank\" href=https://colab.research.google.com/notebooks/data_table.ipynb>data table notebook</a>'\n",
              "          + ' to learn more about interactive tables.';\n",
              "        element.innerHTML = '';\n",
              "        dataTable['output_type'] = 'display_data';\n",
              "        await google.colab.output.renderOutput(dataTable, element);\n",
              "        const docLink = document.createElement('div');\n",
              "        docLink.innerHTML = docLinkHtml;\n",
              "        element.appendChild(docLink);\n",
              "      }\n",
              "    </script>\n",
              "  </div>\n",
              "\n",
              "\n",
              "    <div id=\"df-9aa05236-7210-4bab-bb37-38c95ffda8e1\">\n",
              "      <button class=\"colab-df-quickchart\" onclick=\"quickchart('df-9aa05236-7210-4bab-bb37-38c95ffda8e1')\"\n",
              "                title=\"Suggest charts\"\n",
              "                style=\"display:none;\">\n",
              "\n",
              "<svg xmlns=\"http://www.w3.org/2000/svg\" height=\"24px\"viewBox=\"0 0 24 24\"\n",
              "     width=\"24px\">\n",
              "    <g>\n",
              "        <path d=\"M19 3H5c-1.1 0-2 .9-2 2v14c0 1.1.9 2 2 2h14c1.1 0 2-.9 2-2V5c0-1.1-.9-2-2-2zM9 17H7v-7h2v7zm4 0h-2V7h2v10zm4 0h-2v-4h2v4z\"/>\n",
              "    </g>\n",
              "</svg>\n",
              "      </button>\n",
              "\n",
              "<style>\n",
              "  .colab-df-quickchart {\n",
              "      --bg-color: #E8F0FE;\n",
              "      --fill-color: #1967D2;\n",
              "      --hover-bg-color: #E2EBFA;\n",
              "      --hover-fill-color: #174EA6;\n",
              "      --disabled-fill-color: #AAA;\n",
              "      --disabled-bg-color: #DDD;\n",
              "  }\n",
              "\n",
              "  [theme=dark] .colab-df-quickchart {\n",
              "      --bg-color: #3B4455;\n",
              "      --fill-color: #D2E3FC;\n",
              "      --hover-bg-color: #434B5C;\n",
              "      --hover-fill-color: #FFFFFF;\n",
              "      --disabled-bg-color: #3B4455;\n",
              "      --disabled-fill-color: #666;\n",
              "  }\n",
              "\n",
              "  .colab-df-quickchart {\n",
              "    background-color: var(--bg-color);\n",
              "    border: none;\n",
              "    border-radius: 50%;\n",
              "    cursor: pointer;\n",
              "    display: none;\n",
              "    fill: var(--fill-color);\n",
              "    height: 32px;\n",
              "    padding: 0;\n",
              "    width: 32px;\n",
              "  }\n",
              "\n",
              "  .colab-df-quickchart:hover {\n",
              "    background-color: var(--hover-bg-color);\n",
              "    box-shadow: 0 1px 2px rgba(60, 64, 67, 0.3), 0 1px 3px 1px rgba(60, 64, 67, 0.15);\n",
              "    fill: var(--button-hover-fill-color);\n",
              "  }\n",
              "\n",
              "  .colab-df-quickchart-complete:disabled,\n",
              "  .colab-df-quickchart-complete:disabled:hover {\n",
              "    background-color: var(--disabled-bg-color);\n",
              "    fill: var(--disabled-fill-color);\n",
              "    box-shadow: none;\n",
              "  }\n",
              "\n",
              "  .colab-df-spinner {\n",
              "    border: 2px solid var(--fill-color);\n",
              "    border-color: transparent;\n",
              "    border-bottom-color: var(--fill-color);\n",
              "    animation:\n",
              "      spin 1s steps(1) infinite;\n",
              "  }\n",
              "\n",
              "  @keyframes spin {\n",
              "    0% {\n",
              "      border-color: transparent;\n",
              "      border-bottom-color: var(--fill-color);\n",
              "      border-left-color: var(--fill-color);\n",
              "    }\n",
              "    20% {\n",
              "      border-color: transparent;\n",
              "      border-left-color: var(--fill-color);\n",
              "      border-top-color: var(--fill-color);\n",
              "    }\n",
              "    30% {\n",
              "      border-color: transparent;\n",
              "      border-left-color: var(--fill-color);\n",
              "      border-top-color: var(--fill-color);\n",
              "      border-right-color: var(--fill-color);\n",
              "    }\n",
              "    40% {\n",
              "      border-color: transparent;\n",
              "      border-right-color: var(--fill-color);\n",
              "      border-top-color: var(--fill-color);\n",
              "    }\n",
              "    60% {\n",
              "      border-color: transparent;\n",
              "      border-right-color: var(--fill-color);\n",
              "    }\n",
              "    80% {\n",
              "      border-color: transparent;\n",
              "      border-right-color: var(--fill-color);\n",
              "      border-bottom-color: var(--fill-color);\n",
              "    }\n",
              "    90% {\n",
              "      border-color: transparent;\n",
              "      border-bottom-color: var(--fill-color);\n",
              "    }\n",
              "  }\n",
              "</style>\n",
              "\n",
              "      <script>\n",
              "        async function quickchart(key) {\n",
              "          const quickchartButtonEl =\n",
              "            document.querySelector('#' + key + ' button');\n",
              "          quickchartButtonEl.disabled = true;  // To prevent multiple clicks.\n",
              "          quickchartButtonEl.classList.add('colab-df-spinner');\n",
              "          try {\n",
              "            const charts = await google.colab.kernel.invokeFunction(\n",
              "                'suggestCharts', [key], {});\n",
              "          } catch (error) {\n",
              "            console.error('Error during call to suggestCharts:', error);\n",
              "          }\n",
              "          quickchartButtonEl.classList.remove('colab-df-spinner');\n",
              "          quickchartButtonEl.classList.add('colab-df-quickchart-complete');\n",
              "        }\n",
              "        (() => {\n",
              "          let quickchartButtonEl =\n",
              "            document.querySelector('#df-9aa05236-7210-4bab-bb37-38c95ffda8e1 button');\n",
              "          quickchartButtonEl.style.display =\n",
              "            google.colab.kernel.accessAllowed ? 'block' : 'none';\n",
              "        })();\n",
              "      </script>\n",
              "    </div>\n",
              "\n",
              "    </div>\n",
              "  </div>\n"
            ],
            "application/vnd.google.colaboratory.intrinsic+json": {
              "type": "dataframe",
              "variable_name": "df"
            }
          },
          "metadata": {},
          "execution_count": 5
        }
      ],
      "source": [
        "import pandas as pd\n",
        "\n",
        "df = pd.read_csv(path + \"/KaggleV2-May-2016.csv\")\n",
        "df.head()\n"
      ]
    },
    {
      "cell_type": "markdown",
      "metadata": {
        "id": "68cHnUYb3j5M"
      },
      "source": [
        "\n",
        "\n",
        "**Clearly define the problem and business objectives.**\n",
        "\n",
        " The county health department is experiencing high rates of patient no-shows at scheduled clinic appointments, leading to inefficient use of medical resources, increased waiting times, and decreased access to care. This project aims to develop a machine learning model that can accurately predict whether a patient will show up for their scheduled appointment, using historical appointment data. By identifying high-risk patients in advance, the healthcare system can take proactive measures to reduce no-show rates, optimize clinic operations, and improve patient outcomes.\n",
        "\n",
        "**Primary Business objectives**\n",
        "To build and deploy a machine learning model that predicts whether a patient will attend\n",
        "secondary:\n",
        "\n",
        "\n",
        "1.Efficiency improvement in scheduling-not considering availability of the patient\n",
        "\n",
        "\n",
        "2.policy descions around descions so that incase the patient doesnt show up there is a guideline\n",
        "\n",
        "\n",
        "3.Reminders shared proactively to all the patients.\n",
        "\n",
        "**Secondary Business Objectives**\n",
        "\n",
        "\n",
        " To improve resource allocation, and enhance overall efficiency and quality of healthcare service delivery."
      ]
    },
    {
      "cell_type": "markdown",
      "metadata": {
        "id": "f4Ti9fsK6YmF"
      },
      "source": [
        "**Explain the potential impact of your model on the healthcare system and stakeholders.**\n",
        "\n",
        "1.Patients-The model has the potential to greatly improve patients health by sending timely reminders for appointments, check-ups, or medication refills. These gentle nudges help ensure that patients get the care they need when they need it reducing the risk of complications from missed or delayed visits.\n",
        "\n",
        "\n",
        "2.County health department-When patients report on time for services, it leads to better planning and optimized use of available resources such as medications, staff time, and clinic space. This increased efficiency not only helps in reducing wastage but also improves service coverage.\n",
        "\n",
        "\n",
        "3.health care providers-For doctors and nurses timely patient attendance improves productivity as it reduces the stress of managing unpredictable schedules.\n",
        "\n",
        "\n",
        "4.IT team/Personell-intergrate predictive tools with existing health information systems which ensures continuity of data.\n"
      ]
    },
    {
      "cell_type": "markdown",
      "metadata": {
        "id": "S5GKdALc9tDg"
      },
      "source": [
        "**Identify key performance indicators (KPIs) for project success.**\n",
        "\n",
        "\n",
        "**MODEL KPIs**\n",
        "\n",
        "1.Accuracy-use total proportions to measure how accurate it was based on the total\n",
        "\n",
        "$Accuracy = \\frac{\\text{Correct Predictions}}{\\text{Total Predictions}}$\n",
        "\n",
        "\n",
        "\n",
        "2.precision-how precise were the no shows compared to predicted that is Out of all patients the model predicted as no-shows, how many truly didn’t show up?\n",
        "\n",
        "**Precision** = $\\frac{\\text{True Positives}}{\\text{True Positives} + \\text{False Positives}}$\n",
        "\n",
        "\n",
        " where:\n",
        "True Positives (TP) = predicted no-show, actually no-show\n",
        "\n",
        "False Positives (FP) = predicted no-show, actually showed up\n",
        "\n",
        "False Negatives (FN) = predicted show-up, actually no-show\n",
        "\n",
        "\n",
        "\n",
        "3.Recall (Sensitivity) – How many actual no-shows were correctly predicted.\n",
        "\n",
        "**Recall (Sensitivity)** = $\\frac{\\text{True Positives}}{\\text{True Positives} + \\text{False Negatives}}$\n",
        "\n",
        "\n",
        "4.F1-Score – This metric helps strike a balance between precision and recall, making sure the model performs well on both sides.For example, if the model predicts many patients as potential no-shows, but most of them would have actually shown up, that’s low precision we’ve wrongly flagged patients and could strain trust in the system.\n",
        "\n",
        "**F1-Score** = $\\frac{2 \\times \\text{Precision} \\times \\text{Recall}}{\\text{Precision} + \\text{Recall}}$\n",
        "\n",
        "\n",
        "5.No show rate-This refers to the percentage of scheduled patients who do not show up for their appointments.Reduced rates signify better performance\n",
        "\n",
        "6. Number of Patients per Doctor-Shows the average number of patients each doctor handles. Affected by no-shows, this metric helps measure doctor workload and planning.\n",
        "\n",
        "7. Patient Satisfaction via Surveys\n",
        "8.Model Adoption Rate by Facilities-The more the users embracing the models use in facilities after deployment the better the success rate.\n",
        "\n"
      ]
    },
    {
      "cell_type": "markdown",
      "metadata": {
        "id": "bzWN0GX4r2jH"
      },
      "source": [
        " *Data Understanding*"
      ]
    },
    {
      "cell_type": "markdown",
      "metadata": {
        "id": "bl-vJm0riYaB"
      },
      "source": [
        "\n",
        "The dataset consists of Data taken from a medical Health Centre in Brazil. It contains records of medical appointments and shows whether patients showed up for there appointments."
      ]
    },
    {
      "cell_type": "code",
      "execution_count": 6,
      "metadata": {
        "colab": {
          "base_uri": "https://localhost:8080/"
        },
        "id": "DLSuXbPCugfJ",
        "outputId": "9bce92f7-a70c-4457-f1b0-fddd3a2cd8c6"
      },
      "outputs": [
        {
          "output_type": "stream",
          "name": "stdout",
          "text": [
            "PatientId         float64\n",
            "AppointmentID       int64\n",
            "Gender             object\n",
            "ScheduledDay       object\n",
            "AppointmentDay     object\n",
            "Age                 int64\n",
            "Neighbourhood      object\n",
            "Scholarship         int64\n",
            "Hipertension        int64\n",
            "Diabetes            int64\n",
            "Alcoholism          int64\n",
            "Handcap             int64\n",
            "SMS_received        int64\n",
            "No-show            object\n",
            "dtype: object\n"
          ]
        }
      ],
      "source": [
        "print(df.dtypes)#Data Types\n"
      ]
    },
    {
      "cell_type": "code",
      "execution_count": 7,
      "metadata": {
        "colab": {
          "base_uri": "https://localhost:8080/"
        },
        "id": "bkEn3c4Zt09d",
        "outputId": "d0c80d9f-83b7-4786-eb91-a725c33a2ad0"
      },
      "outputs": [
        {
          "output_type": "stream",
          "name": "stdout",
          "text": [
            "PatientId         0\n",
            "AppointmentID     0\n",
            "Gender            0\n",
            "ScheduledDay      0\n",
            "AppointmentDay    0\n",
            "Age               0\n",
            "Neighbourhood     0\n",
            "Scholarship       0\n",
            "Hipertension      0\n",
            "Diabetes          0\n",
            "Alcoholism        0\n",
            "Handcap           0\n",
            "SMS_received      0\n",
            "No-show           0\n",
            "dtype: int64\n"
          ]
        }
      ],
      "source": [
        "print(df.isnull().sum())#Check for missing values\n"
      ]
    },
    {
      "cell_type": "code",
      "execution_count": 8,
      "metadata": {
        "colab": {
          "base_uri": "https://localhost:8080/"
        },
        "id": "a_D3alqYAh1P",
        "outputId": "00a144a0-07b3-422d-a63e-3c5844c4db31"
      },
      "outputs": [
        {
          "output_type": "stream",
          "name": "stdout",
          "text": [
            "Number of duplicate rows: 0\n",
            "Empty DataFrame\n",
            "Columns: [PatientId, AppointmentID, Gender, ScheduledDay, AppointmentDay, Age, Neighbourhood, Scholarship, Hipertension, Diabetes, Alcoholism, Handcap, SMS_received, No-show]\n",
            "Index: []\n"
          ]
        }
      ],
      "source": [
        "# Check for duplicate rows\n",
        "duplicates = df[df.duplicated()]\n",
        "print(\"Number of duplicate rows:\", len(duplicates))\n",
        "print(duplicates)\n"
      ]
    },
    {
      "cell_type": "code",
      "execution_count": 9,
      "metadata": {
        "colab": {
          "base_uri": "https://localhost:8080/"
        },
        "id": "P5XZB0mPuVIr",
        "outputId": "50aceab4-9490-49f5-a9e8-06a35bab9e3c"
      },
      "outputs": [
        {
          "output_type": "stream",
          "name": "stdout",
          "text": [
            "          PatientId  AppointmentID            Age    Scholarship  \\\n",
            "count  1.105270e+05   1.105270e+05  110527.000000  110527.000000   \n",
            "mean   1.474963e+14   5.675305e+06      37.088874       0.098266   \n",
            "std    2.560949e+14   7.129575e+04      23.110205       0.297675   \n",
            "min    3.921784e+04   5.030230e+06      -1.000000       0.000000   \n",
            "25%    4.172614e+12   5.640286e+06      18.000000       0.000000   \n",
            "50%    3.173184e+13   5.680573e+06      37.000000       0.000000   \n",
            "75%    9.439172e+13   5.725524e+06      55.000000       0.000000   \n",
            "max    9.999816e+14   5.790484e+06     115.000000       1.000000   \n",
            "\n",
            "        Hipertension       Diabetes     Alcoholism        Handcap  \\\n",
            "count  110527.000000  110527.000000  110527.000000  110527.000000   \n",
            "mean        0.197246       0.071865       0.030400       0.022248   \n",
            "std         0.397921       0.258265       0.171686       0.161543   \n",
            "min         0.000000       0.000000       0.000000       0.000000   \n",
            "25%         0.000000       0.000000       0.000000       0.000000   \n",
            "50%         0.000000       0.000000       0.000000       0.000000   \n",
            "75%         0.000000       0.000000       0.000000       0.000000   \n",
            "max         1.000000       1.000000       1.000000       4.000000   \n",
            "\n",
            "        SMS_received  \n",
            "count  110527.000000  \n",
            "mean        0.321026  \n",
            "std         0.466873  \n",
            "min         0.000000  \n",
            "25%         0.000000  \n",
            "50%         0.000000  \n",
            "75%         1.000000  \n",
            "max         1.000000  \n"
          ]
        }
      ],
      "source": [
        "print(df.describe())\n"
      ]
    },
    {
      "cell_type": "markdown",
      "source": [
        " The dataset is comprised of 110527 records of 14 varibles  patientID,appointmentID,Gender,Schedule day, Appointment Day,Age,Neighbourhood,Scholarship,Hipertension,Diabetes,Alcoholism,\n",
        "Handicap & SMS_received\n",
        " Those variables can be classified into:\n",
        " • unique identifiers for the patient (patientID) and appointment(appointmentID),\n",
        " and\n",
        " • dates for ScheduledDay and AppointmentDay. These are respectively the date and time\n",
        " when the appointment was scheduled and the appointment day The scheduledDay has\n",
        " time(hh:mm:ss) specified and AppointmentDay has no time specified (default 00:00:00).\n",
        " • Ageis a continuous variable with a minimum 0f-1 which looks like a data entry error whereas\n",
        " the neighborhood is a string containing the patients’ residence.\n",
        " • The remaining are dichotomous variables. Gender is either F or M and No-show is Yes or\n",
        " No. The rest of the variables has 0 or 1 which represents absence or presence of a given\n",
        " condition\n",
        " The dataset has no duplicate values nor missing values. Let us explore further by looking at\n",
        " distribution of the categorical values.\n",
        "\n",
        " The age distribution ranges from -1 to 115 years Most patients fall between 18 (25th percentile) and 55 (75th percentile), with a median and mean of approximately 37 years. This suggests more oung and middle aged patients.\n",
        "The cases considered as high risk in this case (Hipertension,Diabetes,     Alcoholism) are not as high ,Hipertension is recorded as the highest with a mean of 19.7%   \n",
        "Only 32% of the patients recorded having received SMS reminders\n"
      ],
      "metadata": {
        "id": "xJAlBwC3Lsn-"
      }
    },
    {
      "cell_type": "code",
      "execution_count": 10,
      "metadata": {
        "colab": {
          "base_uri": "https://localhost:8080/"
        },
        "id": "OgqnKPdA8Ukk",
        "outputId": "d90ad1b5-e203-4e9b-d0f8-c2a2583c50ac"
      },
      "outputs": [
        {
          "output_type": "stream",
          "name": "stdout",
          "text": [
            "<class 'pandas.core.frame.DataFrame'>\n",
            "RangeIndex: 110527 entries, 0 to 110526\n",
            "Data columns (total 14 columns):\n",
            " #   Column          Non-Null Count   Dtype  \n",
            "---  ------          --------------   -----  \n",
            " 0   PatientId       110527 non-null  float64\n",
            " 1   AppointmentID   110527 non-null  int64  \n",
            " 2   Gender          110527 non-null  object \n",
            " 3   ScheduledDay    110527 non-null  object \n",
            " 4   AppointmentDay  110527 non-null  object \n",
            " 5   Age             110527 non-null  int64  \n",
            " 6   Neighbourhood   110527 non-null  object \n",
            " 7   Scholarship     110527 non-null  int64  \n",
            " 8   Hipertension    110527 non-null  int64  \n",
            " 9   Diabetes        110527 non-null  int64  \n",
            " 10  Alcoholism      110527 non-null  int64  \n",
            " 11  Handcap         110527 non-null  int64  \n",
            " 12  SMS_received    110527 non-null  int64  \n",
            " 13  No-show         110527 non-null  object \n",
            "dtypes: float64(1), int64(8), object(5)\n",
            "memory usage: 11.8+ MB\n"
          ]
        }
      ],
      "source": [
        "df.info()"
      ]
    },
    {
      "cell_type": "code",
      "execution_count": 11,
      "metadata": {
        "id": "oYQ5Sbxr9TK6"
      },
      "outputs": [],
      "source": [
        " from collections import Counter"
      ]
    },
    {
      "cell_type": "code",
      "execution_count": 12,
      "metadata": {
        "colab": {
          "base_uri": "https://localhost:8080/"
        },
        "id": "sQh3A4s99x2d",
        "outputId": "f615c438-1784-430b-9fe4-f5a374ad5dbe"
      },
      "outputs": [
        {
          "output_type": "stream",
          "name": "stdout",
          "text": [
            "['PatientId', 'AppointmentID', 'Gender', 'ScheduledDay', 'AppointmentDay', 'Age', 'Neighbourhood', 'Scholarship', 'Hipertension', 'Diabetes', 'Alcoholism', 'Handcap', 'SMS_received', 'No-show']\n"
          ]
        }
      ],
      "source": [
        "print(df.columns.tolist())\n"
      ]
    },
    {
      "cell_type": "code",
      "execution_count": 13,
      "metadata": {
        "id": "wE8uKmDR91le"
      },
      "outputs": [],
      "source": [
        "df.columns = df.columns.str.strip()\n"
      ]
    },
    {
      "cell_type": "code",
      "execution_count": 14,
      "metadata": {
        "colab": {
          "base_uri": "https://localhost:8080/"
        },
        "id": "0zR1E5_q9_TH",
        "outputId": "880eee37-a88b-4c25-bb6b-86f1fba1fd48"
      },
      "outputs": [
        {
          "output_type": "stream",
          "name": "stdout",
          "text": [
            "Counter({'No': 88208, 'Yes': 22319})\n"
          ]
        }
      ],
      "source": [
        "from collections import Counter\n",
        "\n",
        "classes = Counter(df['No-show'].values)\n",
        "print(classes)\n",
        "\n"
      ]
    },
    {
      "cell_type": "code",
      "execution_count": 15,
      "metadata": {
        "colab": {
          "base_uri": "https://localhost:8080/"
        },
        "id": "j6zJYWVQ-fJL",
        "outputId": "a7e70b29-8342-4fff-a40c-4eccfd424f1e"
      },
      "outputs": [
        {
          "output_type": "execute_result",
          "data": {
            "text/plain": [
              "[('No', 88208), ('Yes', 22319)]"
            ]
          },
          "metadata": {},
          "execution_count": 15
        }
      ],
      "source": [
        " classes.most_common()"
      ]
    },
    {
      "cell_type": "code",
      "execution_count": 16,
      "metadata": {
        "id": "JbzOcnKY-izK"
      },
      "outputs": [],
      "source": [
        "class_dist = pd.DataFrame(classes.most_common(), columns=['Class', 'Num_Observations'])\n"
      ]
    },
    {
      "cell_type": "code",
      "execution_count": 17,
      "metadata": {
        "colab": {
          "base_uri": "https://localhost:8080/",
          "height": 125
        },
        "id": "INqQLAmx-1nb",
        "outputId": "e7029fca-0e1a-454a-e8b7-0f7ce7fe88b6"
      },
      "outputs": [
        {
          "output_type": "execute_result",
          "data": {
            "text/plain": [
              "  Class  Num_Observations\n",
              "0    No             88208\n",
              "1   Yes             22319"
            ],
            "text/html": [
              "\n",
              "  <div id=\"df-ccb0a755-f304-445f-a4b0-bf35a7a0c513\" class=\"colab-df-container\">\n",
              "    <div>\n",
              "<style scoped>\n",
              "    .dataframe tbody tr th:only-of-type {\n",
              "        vertical-align: middle;\n",
              "    }\n",
              "\n",
              "    .dataframe tbody tr th {\n",
              "        vertical-align: top;\n",
              "    }\n",
              "\n",
              "    .dataframe thead th {\n",
              "        text-align: right;\n",
              "    }\n",
              "</style>\n",
              "<table border=\"1\" class=\"dataframe\">\n",
              "  <thead>\n",
              "    <tr style=\"text-align: right;\">\n",
              "      <th></th>\n",
              "      <th>Class</th>\n",
              "      <th>Num_Observations</th>\n",
              "    </tr>\n",
              "  </thead>\n",
              "  <tbody>\n",
              "    <tr>\n",
              "      <th>0</th>\n",
              "      <td>No</td>\n",
              "      <td>88208</td>\n",
              "    </tr>\n",
              "    <tr>\n",
              "      <th>1</th>\n",
              "      <td>Yes</td>\n",
              "      <td>22319</td>\n",
              "    </tr>\n",
              "  </tbody>\n",
              "</table>\n",
              "</div>\n",
              "    <div class=\"colab-df-buttons\">\n",
              "\n",
              "  <div class=\"colab-df-container\">\n",
              "    <button class=\"colab-df-convert\" onclick=\"convertToInteractive('df-ccb0a755-f304-445f-a4b0-bf35a7a0c513')\"\n",
              "            title=\"Convert this dataframe to an interactive table.\"\n",
              "            style=\"display:none;\">\n",
              "\n",
              "  <svg xmlns=\"http://www.w3.org/2000/svg\" height=\"24px\" viewBox=\"0 -960 960 960\">\n",
              "    <path d=\"M120-120v-720h720v720H120Zm60-500h600v-160H180v160Zm220 220h160v-160H400v160Zm0 220h160v-160H400v160ZM180-400h160v-160H180v160Zm440 0h160v-160H620v160ZM180-180h160v-160H180v160Zm440 0h160v-160H620v160Z\"/>\n",
              "  </svg>\n",
              "    </button>\n",
              "\n",
              "  <style>\n",
              "    .colab-df-container {\n",
              "      display:flex;\n",
              "      gap: 12px;\n",
              "    }\n",
              "\n",
              "    .colab-df-convert {\n",
              "      background-color: #E8F0FE;\n",
              "      border: none;\n",
              "      border-radius: 50%;\n",
              "      cursor: pointer;\n",
              "      display: none;\n",
              "      fill: #1967D2;\n",
              "      height: 32px;\n",
              "      padding: 0 0 0 0;\n",
              "      width: 32px;\n",
              "    }\n",
              "\n",
              "    .colab-df-convert:hover {\n",
              "      background-color: #E2EBFA;\n",
              "      box-shadow: 0px 1px 2px rgba(60, 64, 67, 0.3), 0px 1px 3px 1px rgba(60, 64, 67, 0.15);\n",
              "      fill: #174EA6;\n",
              "    }\n",
              "\n",
              "    .colab-df-buttons div {\n",
              "      margin-bottom: 4px;\n",
              "    }\n",
              "\n",
              "    [theme=dark] .colab-df-convert {\n",
              "      background-color: #3B4455;\n",
              "      fill: #D2E3FC;\n",
              "    }\n",
              "\n",
              "    [theme=dark] .colab-df-convert:hover {\n",
              "      background-color: #434B5C;\n",
              "      box-shadow: 0px 1px 3px 1px rgba(0, 0, 0, 0.15);\n",
              "      filter: drop-shadow(0px 1px 2px rgba(0, 0, 0, 0.3));\n",
              "      fill: #FFFFFF;\n",
              "    }\n",
              "  </style>\n",
              "\n",
              "    <script>\n",
              "      const buttonEl =\n",
              "        document.querySelector('#df-ccb0a755-f304-445f-a4b0-bf35a7a0c513 button.colab-df-convert');\n",
              "      buttonEl.style.display =\n",
              "        google.colab.kernel.accessAllowed ? 'block' : 'none';\n",
              "\n",
              "      async function convertToInteractive(key) {\n",
              "        const element = document.querySelector('#df-ccb0a755-f304-445f-a4b0-bf35a7a0c513');\n",
              "        const dataTable =\n",
              "          await google.colab.kernel.invokeFunction('convertToInteractive',\n",
              "                                                    [key], {});\n",
              "        if (!dataTable) return;\n",
              "\n",
              "        const docLinkHtml = 'Like what you see? Visit the ' +\n",
              "          '<a target=\"_blank\" href=https://colab.research.google.com/notebooks/data_table.ipynb>data table notebook</a>'\n",
              "          + ' to learn more about interactive tables.';\n",
              "        element.innerHTML = '';\n",
              "        dataTable['output_type'] = 'display_data';\n",
              "        await google.colab.output.renderOutput(dataTable, element);\n",
              "        const docLink = document.createElement('div');\n",
              "        docLink.innerHTML = docLinkHtml;\n",
              "        element.appendChild(docLink);\n",
              "      }\n",
              "    </script>\n",
              "  </div>\n",
              "\n",
              "\n",
              "    <div id=\"df-dfde66e4-f4fa-4e7f-a2d5-7fdf3ab721a4\">\n",
              "      <button class=\"colab-df-quickchart\" onclick=\"quickchart('df-dfde66e4-f4fa-4e7f-a2d5-7fdf3ab721a4')\"\n",
              "                title=\"Suggest charts\"\n",
              "                style=\"display:none;\">\n",
              "\n",
              "<svg xmlns=\"http://www.w3.org/2000/svg\" height=\"24px\"viewBox=\"0 0 24 24\"\n",
              "     width=\"24px\">\n",
              "    <g>\n",
              "        <path d=\"M19 3H5c-1.1 0-2 .9-2 2v14c0 1.1.9 2 2 2h14c1.1 0 2-.9 2-2V5c0-1.1-.9-2-2-2zM9 17H7v-7h2v7zm4 0h-2V7h2v10zm4 0h-2v-4h2v4z\"/>\n",
              "    </g>\n",
              "</svg>\n",
              "      </button>\n",
              "\n",
              "<style>\n",
              "  .colab-df-quickchart {\n",
              "      --bg-color: #E8F0FE;\n",
              "      --fill-color: #1967D2;\n",
              "      --hover-bg-color: #E2EBFA;\n",
              "      --hover-fill-color: #174EA6;\n",
              "      --disabled-fill-color: #AAA;\n",
              "      --disabled-bg-color: #DDD;\n",
              "  }\n",
              "\n",
              "  [theme=dark] .colab-df-quickchart {\n",
              "      --bg-color: #3B4455;\n",
              "      --fill-color: #D2E3FC;\n",
              "      --hover-bg-color: #434B5C;\n",
              "      --hover-fill-color: #FFFFFF;\n",
              "      --disabled-bg-color: #3B4455;\n",
              "      --disabled-fill-color: #666;\n",
              "  }\n",
              "\n",
              "  .colab-df-quickchart {\n",
              "    background-color: var(--bg-color);\n",
              "    border: none;\n",
              "    border-radius: 50%;\n",
              "    cursor: pointer;\n",
              "    display: none;\n",
              "    fill: var(--fill-color);\n",
              "    height: 32px;\n",
              "    padding: 0;\n",
              "    width: 32px;\n",
              "  }\n",
              "\n",
              "  .colab-df-quickchart:hover {\n",
              "    background-color: var(--hover-bg-color);\n",
              "    box-shadow: 0 1px 2px rgba(60, 64, 67, 0.3), 0 1px 3px 1px rgba(60, 64, 67, 0.15);\n",
              "    fill: var(--button-hover-fill-color);\n",
              "  }\n",
              "\n",
              "  .colab-df-quickchart-complete:disabled,\n",
              "  .colab-df-quickchart-complete:disabled:hover {\n",
              "    background-color: var(--disabled-bg-color);\n",
              "    fill: var(--disabled-fill-color);\n",
              "    box-shadow: none;\n",
              "  }\n",
              "\n",
              "  .colab-df-spinner {\n",
              "    border: 2px solid var(--fill-color);\n",
              "    border-color: transparent;\n",
              "    border-bottom-color: var(--fill-color);\n",
              "    animation:\n",
              "      spin 1s steps(1) infinite;\n",
              "  }\n",
              "\n",
              "  @keyframes spin {\n",
              "    0% {\n",
              "      border-color: transparent;\n",
              "      border-bottom-color: var(--fill-color);\n",
              "      border-left-color: var(--fill-color);\n",
              "    }\n",
              "    20% {\n",
              "      border-color: transparent;\n",
              "      border-left-color: var(--fill-color);\n",
              "      border-top-color: var(--fill-color);\n",
              "    }\n",
              "    30% {\n",
              "      border-color: transparent;\n",
              "      border-left-color: var(--fill-color);\n",
              "      border-top-color: var(--fill-color);\n",
              "      border-right-color: var(--fill-color);\n",
              "    }\n",
              "    40% {\n",
              "      border-color: transparent;\n",
              "      border-right-color: var(--fill-color);\n",
              "      border-top-color: var(--fill-color);\n",
              "    }\n",
              "    60% {\n",
              "      border-color: transparent;\n",
              "      border-right-color: var(--fill-color);\n",
              "    }\n",
              "    80% {\n",
              "      border-color: transparent;\n",
              "      border-right-color: var(--fill-color);\n",
              "      border-bottom-color: var(--fill-color);\n",
              "    }\n",
              "    90% {\n",
              "      border-color: transparent;\n",
              "      border-bottom-color: var(--fill-color);\n",
              "    }\n",
              "  }\n",
              "</style>\n",
              "\n",
              "      <script>\n",
              "        async function quickchart(key) {\n",
              "          const quickchartButtonEl =\n",
              "            document.querySelector('#' + key + ' button');\n",
              "          quickchartButtonEl.disabled = true;  // To prevent multiple clicks.\n",
              "          quickchartButtonEl.classList.add('colab-df-spinner');\n",
              "          try {\n",
              "            const charts = await google.colab.kernel.invokeFunction(\n",
              "                'suggestCharts', [key], {});\n",
              "          } catch (error) {\n",
              "            console.error('Error during call to suggestCharts:', error);\n",
              "          }\n",
              "          quickchartButtonEl.classList.remove('colab-df-spinner');\n",
              "          quickchartButtonEl.classList.add('colab-df-quickchart-complete');\n",
              "        }\n",
              "        (() => {\n",
              "          let quickchartButtonEl =\n",
              "            document.querySelector('#df-dfde66e4-f4fa-4e7f-a2d5-7fdf3ab721a4 button');\n",
              "          quickchartButtonEl.style.display =\n",
              "            google.colab.kernel.accessAllowed ? 'block' : 'none';\n",
              "        })();\n",
              "      </script>\n",
              "    </div>\n",
              "\n",
              "  <div id=\"id_b7f03cb6-69e9-4b11-8453-16b69f9e044d\">\n",
              "    <style>\n",
              "      .colab-df-generate {\n",
              "        background-color: #E8F0FE;\n",
              "        border: none;\n",
              "        border-radius: 50%;\n",
              "        cursor: pointer;\n",
              "        display: none;\n",
              "        fill: #1967D2;\n",
              "        height: 32px;\n",
              "        padding: 0 0 0 0;\n",
              "        width: 32px;\n",
              "      }\n",
              "\n",
              "      .colab-df-generate:hover {\n",
              "        background-color: #E2EBFA;\n",
              "        box-shadow: 0px 1px 2px rgba(60, 64, 67, 0.3), 0px 1px 3px 1px rgba(60, 64, 67, 0.15);\n",
              "        fill: #174EA6;\n",
              "      }\n",
              "\n",
              "      [theme=dark] .colab-df-generate {\n",
              "        background-color: #3B4455;\n",
              "        fill: #D2E3FC;\n",
              "      }\n",
              "\n",
              "      [theme=dark] .colab-df-generate:hover {\n",
              "        background-color: #434B5C;\n",
              "        box-shadow: 0px 1px 3px 1px rgba(0, 0, 0, 0.15);\n",
              "        filter: drop-shadow(0px 1px 2px rgba(0, 0, 0, 0.3));\n",
              "        fill: #FFFFFF;\n",
              "      }\n",
              "    </style>\n",
              "    <button class=\"colab-df-generate\" onclick=\"generateWithVariable('class_dist')\"\n",
              "            title=\"Generate code using this dataframe.\"\n",
              "            style=\"display:none;\">\n",
              "\n",
              "  <svg xmlns=\"http://www.w3.org/2000/svg\" height=\"24px\"viewBox=\"0 0 24 24\"\n",
              "       width=\"24px\">\n",
              "    <path d=\"M7,19H8.4L18.45,9,17,7.55,7,17.6ZM5,21V16.75L18.45,3.32a2,2,0,0,1,2.83,0l1.4,1.43a1.91,1.91,0,0,1,.58,1.4,1.91,1.91,0,0,1-.58,1.4L9.25,21ZM18.45,9,17,7.55Zm-12,3A5.31,5.31,0,0,0,4.9,8.1,5.31,5.31,0,0,0,1,6.5,5.31,5.31,0,0,0,4.9,4.9,5.31,5.31,0,0,0,6.5,1,5.31,5.31,0,0,0,8.1,4.9,5.31,5.31,0,0,0,12,6.5,5.46,5.46,0,0,0,6.5,12Z\"/>\n",
              "  </svg>\n",
              "    </button>\n",
              "    <script>\n",
              "      (() => {\n",
              "      const buttonEl =\n",
              "        document.querySelector('#id_b7f03cb6-69e9-4b11-8453-16b69f9e044d button.colab-df-generate');\n",
              "      buttonEl.style.display =\n",
              "        google.colab.kernel.accessAllowed ? 'block' : 'none';\n",
              "\n",
              "      buttonEl.onclick = () => {\n",
              "        google.colab.notebook.generateWithVariable('class_dist');\n",
              "      }\n",
              "      })();\n",
              "    </script>\n",
              "  </div>\n",
              "\n",
              "    </div>\n",
              "  </div>\n"
            ],
            "application/vnd.google.colaboratory.intrinsic+json": {
              "type": "dataframe",
              "variable_name": "class_dist",
              "summary": "{\n  \"name\": \"class_dist\",\n  \"rows\": 2,\n  \"fields\": [\n    {\n      \"column\": \"Class\",\n      \"properties\": {\n        \"dtype\": \"string\",\n        \"num_unique_values\": 2,\n        \"samples\": [\n          \"Yes\",\n          \"No\"\n        ],\n        \"semantic_type\": \"\",\n        \"description\": \"\"\n      }\n    },\n    {\n      \"column\": \"Num_Observations\",\n      \"properties\": {\n        \"dtype\": \"number\",\n        \"std\": 46590,\n        \"min\": 22319,\n        \"max\": 88208,\n        \"num_unique_values\": 2,\n        \"samples\": [\n          22319,\n          88208\n        ],\n        \"semantic_type\": \"\",\n        \"description\": \"\"\n      }\n    }\n  ]\n}"
            }
          },
          "metadata": {},
          "execution_count": 17
        }
      ],
      "source": [
        "class_dist"
      ]
    },
    {
      "cell_type": "code",
      "execution_count": 18,
      "metadata": {
        "id": "0CJ3ytorOrM_"
      },
      "outputs": [],
      "source": [
        "import pandas as pd\n",
        "import seaborn as sns\n",
        "import matplotlib.pyplot as plt\n",
        "\n",
        "# Assuming your dataframe is called df\n",
        "correlation_matrix = df.corr(numeric_only=True)\n"
      ]
    },
    {
      "cell_type": "code",
      "execution_count": 19,
      "metadata": {
        "colab": {
          "base_uri": "https://localhost:8080/"
        },
        "id": "Iui2Hm0IOu45",
        "outputId": "be0c23a9-c0c9-48d4-a66a-090f1d5b33ab"
      },
      "outputs": [
        {
          "output_type": "stream",
          "name": "stdout",
          "text": [
            "               PatientId  AppointmentID       Age  Scholarship  Hipertension  \\\n",
            "PatientId       1.000000       0.004039 -0.004139    -0.002880     -0.006441   \n",
            "AppointmentID   0.004039       1.000000 -0.019126     0.022615      0.012752   \n",
            "Age            -0.004139      -0.019126  1.000000    -0.092457      0.504586   \n",
            "Scholarship    -0.002880       0.022615 -0.092457     1.000000     -0.019729   \n",
            "Hipertension   -0.006441       0.012752  0.504586    -0.019729      1.000000   \n",
            "Diabetes        0.001605       0.022628  0.292391    -0.024894      0.433086   \n",
            "Alcoholism      0.011011       0.032944  0.095811     0.035022      0.087971   \n",
            "Handcap        -0.007916       0.014106  0.078033    -0.008586      0.080083   \n",
            "SMS_received   -0.009749      -0.256618  0.012643     0.001194     -0.006267   \n",
            "\n",
            "               Diabetes  Alcoholism   Handcap  SMS_received  \n",
            "PatientId      0.001605    0.011011 -0.007916     -0.009749  \n",
            "AppointmentID  0.022628    0.032944  0.014106     -0.256618  \n",
            "Age            0.292391    0.095811  0.078033      0.012643  \n",
            "Scholarship   -0.024894    0.035022 -0.008586      0.001194  \n",
            "Hipertension   0.433086    0.087971  0.080083     -0.006267  \n",
            "Diabetes       1.000000    0.018474  0.057530     -0.014550  \n",
            "Alcoholism     0.018474    1.000000  0.004648     -0.026147  \n",
            "Handcap        0.057530    0.004648  1.000000     -0.024161  \n",
            "SMS_received  -0.014550   -0.026147 -0.024161      1.000000  \n"
          ]
        }
      ],
      "source": [
        "print(correlation_matrix)\n"
      ]
    },
    {
      "cell_type": "markdown",
      "metadata": {
        "id": "Yj1APSNuFPaM"
      },
      "source": [
        "From the descriptive Statistics we can establish the following insights;\n",
        "The data was collected from a sample of 110527 patients.\n",
        "\n",
        "From the correlation matrix we are able to deduce that age and the high risk conditions have a high correlation ;age and Hipertension are at 0.5,age and Diabetes are at 0.2, also the chances of a patient having more than one high risk condition is observed as high with Hipertension and Diabetes at 0.4 correlation.Most of the other variables have near zero values suggesting low to no correlation"
      ]
    },
    {
      "cell_type": "markdown",
      "metadata": {
        "id": "EM-bKvJeMATn"
      },
      "source": [
        "Graphical Visualization"
      ]
    },
    {
      "cell_type": "code",
      "source": [
        " # Automatically detect binary columns\n",
        " dichotomous_cols = [col for col in df.columns if df[col].nunique() == 2]\n",
        " 4\n",
        "# Adjust layout\n",
        " cols_per_row = 4\n",
        " rows = 2\n",
        " plots_per_page = cols_per_row * rows\n",
        " # Split into chunks\n",
        " for i in range(0, len(dichotomous_cols), plots_per_page):\n",
        " subset = dichotomous_cols[i:i + plots_per_page]\n",
        " fig, axes = plt.subplots(rows, cols_per_row, figsize=(cols_per_row * 5,␣\n",
        " ↪rows * 4))\n",
        " axes = axes.flatten()\n",
        " for j, col in enumerate(subset):\n",
        " ax = axes[j]\n",
        " count_plot = sns.countplot(data=df, x=col, hue=col, palette='pastel',␣\n",
        " ↪legend=False, ax=ax)\n",
        " ax.set_title(f'Distribution of {col}')\n",
        " ax.set_xlabel(col)\n",
        " ax.set_ylabel('Count')\n",
        " ax.grid(True, axis='y')\n",
        " # Add count labels on each bar\n",
        " for container in count_plot.containers:\n",
        " count_plot.bar_label(container, fmt='%d', label_type='edge',␣\n",
        " ↪fontsize=9, padding=2)\n",
        " # Hide any unused subplots\n",
        " for k in range(len(subset), len(axes)):\n",
        " fig.delaxes(axes[k])\n",
        " plt.tight_layout()\n",
        " plt.show()"
      ],
      "metadata": {
        "id": "bXo1W_B-PLj_"
      },
      "execution_count": null,
      "outputs": []
    },
    {
      "cell_type": "code",
      "execution_count": 20,
      "metadata": {
        "colab": {
          "base_uri": "https://localhost:8080/",
          "height": 333
        },
        "id": "Gn0o8cdgMtYk",
        "outputId": "719bf197-e63e-4013-b9a8-e0146846cb55"
      },
      "outputs": [
        {
          "output_type": "display_data",
          "data": {
            "text/plain": [
              "<Figure size 500x300 with 1 Axes>"
            ],
            "image/png": "[encoded data removed]"
          },
          "metadata": {}
        }
      ],
      "source": [
        "import seaborn as sns\n",
        "import matplotlib.pyplot as plt\n",
        "\n",
        "# No-show counts\n",
        "plt.figure(figsize=(5, 3))  # Set figure size first\n",
        "sns.countplot(data=df, x='No-show')\n",
        "plt.title('Show vs No-Show Count')\n",
        "plt.show()\n"
      ]
    },
    {
      "cell_type": "code",
      "execution_count": 21,
      "metadata": {
        "colab": {
          "base_uri": "https://localhost:8080/",
          "height": 333
        },
        "id": "sxhGF4GrM7qW",
        "outputId": "e31ade6b-e9f2-4475-ad00-bdc4424add93"
      },
      "outputs": [
        {
          "output_type": "display_data",
          "data": {
            "text/plain": [
              "<Figure size 500x300 with 1 Axes>"
            ],
            "image/png": "[encoded data removed]"
          },
          "metadata": {}
        }
      ],
      "source": [
        "# Age distribution\n",
        "plt.figure(figsize=(5, 3))  # Set figure size first\n",
        "sns.histplot(df['Age'], bins=30, kde=True)\n",
        "plt.title('Patient Age Distribution')\n",
        "plt.show()"
      ]
    },
    {
      "cell_type": "code",
      "execution_count": 22,
      "metadata": {
        "colab": {
          "base_uri": "https://localhost:8080/",
          "height": 333
        },
        "id": "oujWucUWNIyf",
        "outputId": "e906d69b-136b-44e6-b3c3-dadfa2be8b8f"
      },
      "outputs": [
        {
          "output_type": "display_data",
          "data": {
            "text/plain": [
              "<Figure size 500x300 with 1 Axes>"
            ],
            "image/png": "[encoded data removed]"
          },
          "metadata": {}
        }
      ],
      "source": [
        "# Gender breakdown\n",
        "plt.figure(figsize=(5, 3))  # Set figure size first\n",
        "sns.countplot(data=df, x='Gender', hue='No-show')\n",
        "plt.title('Gender vs No-Show')\n",
        "plt.show()"
      ]
    },
    {
      "cell_type": "markdown",
      "metadata": {
        "id": "hGVyWXH4rWvg"
      },
      "source": [
        "*Data Preparation*"
      ]
    },
    {
      "cell_type": "code",
      "execution_count": 23,
      "metadata": {
        "id": "zIPjGEId_W_u"
      },
      "outputs": [],
      "source": [
        " df.rename(columns={'Result':'Class'},inplace=True)"
      ]
    },
    {
      "cell_type": "code",
      "execution_count": 24,
      "metadata": {
        "colab": {
          "base_uri": "https://localhost:8080/"
        },
        "id": "w7VYMFPr_rnr",
        "outputId": "95262e90-14ca-451c-9e4f-704a0edd4cc8"
      },
      "outputs": [
        {
          "output_type": "stream",
          "name": "stdout",
          "text": [
            "<class 'pandas.core.frame.DataFrame'>\n",
            "RangeIndex: 110527 entries, 0 to 110526\n",
            "Data columns (total 14 columns):\n",
            " #   Column          Non-Null Count   Dtype  \n",
            "---  ------          --------------   -----  \n",
            " 0   PatientId       110527 non-null  float64\n",
            " 1   AppointmentID   110527 non-null  int64  \n",
            " 2   Gender          110527 non-null  object \n",
            " 3   ScheduledDay    110527 non-null  object \n",
            " 4   AppointmentDay  110527 non-null  object \n",
            " 5   Age             110527 non-null  int64  \n",
            " 6   Neighbourhood   110527 non-null  object \n",
            " 7   Scholarship     110527 non-null  int64  \n",
            " 8   Hipertension    110527 non-null  int64  \n",
            " 9   Diabetes        110527 non-null  int64  \n",
            " 10  Alcoholism      110527 non-null  int64  \n",
            " 11  Handcap         110527 non-null  int64  \n",
            " 12  SMS_received    110527 non-null  int64  \n",
            " 13  No-show         110527 non-null  object \n",
            "dtypes: float64(1), int64(8), object(5)\n",
            "memory usage: 11.8+ MB\n"
          ]
        }
      ],
      "source": [
        "df.info()"
      ]
    },
    {
      "cell_type": "code",
      "execution_count": 25,
      "metadata": {
        "id": "fZ6867ec_vcz"
      },
      "outputs": [],
      "source": [
        "df['No-show'] = df['No-show'].map({'No': 0, 'Yes': 1})\n"
      ]
    },
    {
      "cell_type": "code",
      "execution_count": 26,
      "metadata": {
        "colab": {
          "base_uri": "https://localhost:8080/"
        },
        "id": "v-dLb7H4AGJQ",
        "outputId": "302e9f02-0fd2-401e-eadd-853895161a92"
      },
      "outputs": [
        {
          "output_type": "execute_result",
          "data": {
            "text/plain": [
              "array([0, 1])"
            ]
          },
          "metadata": {},
          "execution_count": 26
        }
      ],
      "source": [
        " df['No-show'].unique()"
      ]
    },
    {
      "cell_type": "code",
      "execution_count": 27,
      "metadata": {
        "id": "B5qt-6i17SHA"
      },
      "outputs": [],
      "source": [
        " from sklearn.model_selection import train_test_split"
      ]
    },
    {
      "cell_type": "code",
      "execution_count": 28,
      "metadata": {
        "id": "MF3dp4RL7YrT"
      },
      "outputs": [],
      "source": [
        "from sklearn.preprocessing import LabelEncoder\n",
        "\n",
        "df_encoded = df.copy()\n",
        "label_encoders = {}\n",
        "\n",
        "for col in df_encoded.columns[:30]:\n",
        "    if df_encoded[col].dtype == 'object':\n",
        "        le = LabelEncoder()\n",
        "        df_encoded[col] = le.fit_transform(df_encoded[col])\n",
        "        label_encoders[col] = le\n",
        "\n",
        "X = df_encoded.iloc[:, 0:30].values.astype(int)\n"
      ]
    },
    {
      "cell_type": "code",
      "execution_count": 29,
      "metadata": {
        "colab": {
          "base_uri": "https://localhost:8080/"
        },
        "id": "LuOBOmgm7-49",
        "outputId": "0f1e9e3a-416e-49cf-f247-250a74193b3f"
      },
      "outputs": [
        {
          "output_type": "execute_result",
          "data": {
            "text/plain": [
              "array([[ 29872499824296,         5642903,               0, ...,\n",
              "                      0,               0,               0],\n",
              "       [558997776694438,         5642503,               1, ...,\n",
              "                      0,               0,               0],\n",
              "       [  4262962299951,         5642549,               0, ...,\n",
              "                      0,               0,               0],\n",
              "       ...,\n",
              "       [ 15576631729893,         5630692,               0, ...,\n",
              "                      0,               1,               0],\n",
              "       [ 92134931435557,         5630323,               0, ...,\n",
              "                      0,               1,               0],\n",
              "       [377511518121127,         5629448,               0, ...,\n",
              "                      0,               1,               0]])"
            ]
          },
          "metadata": {},
          "execution_count": 29
        }
      ],
      "source": [
        "X"
      ]
    },
    {
      "cell_type": "code",
      "execution_count": 30,
      "metadata": {
        "id": "5CMkJ-9NA7Eg"
      },
      "outputs": [],
      "source": [
        "y = df['No-show'].values.astype(int)\n"
      ]
    },
    {
      "cell_type": "code",
      "execution_count": 31,
      "metadata": {
        "colab": {
          "base_uri": "https://localhost:8080/"
        },
        "id": "cOIquIqlBMgh",
        "outputId": "14ad8729-a8c3-4cf0-baa3-28b107d30f12"
      },
      "outputs": [
        {
          "output_type": "execute_result",
          "data": {
            "text/plain": [
              "array([0, 0, 0, ..., 0, 0, 0])"
            ]
          },
          "metadata": {},
          "execution_count": 31
        }
      ],
      "source": [
        "y"
      ]
    },
    {
      "cell_type": "markdown",
      "metadata": {
        "id": "rDZX3i5zKj8P"
      },
      "source": [
        "*USING LOGISTIC MODEL REGRESSION*"
      ]
    },
    {
      "cell_type": "code",
      "execution_count": 32,
      "metadata": {
        "id": "8YMCc0CXBjvd"
      },
      "outputs": [],
      "source": [
        "X_train, X_test, y_train, y_test = train_test_split(X, y,\n",
        " test_size=0.2,\n",
        " random_state=42)"
      ]
    },
    {
      "cell_type": "code",
      "execution_count": 33,
      "metadata": {
        "id": "T84QG-ATB6zD"
      },
      "outputs": [],
      "source": [
        "import numpy as np\n"
      ]
    },
    {
      "cell_type": "code",
      "execution_count": 34,
      "metadata": {
        "id": "E48yuTDwBleq"
      },
      "outputs": [],
      "source": [
        "np.save(\"X_train\", X_train)\n",
        "np.save(\"X_test\", X_test)\n",
        "np.save(\"y_train\", y_train)\n",
        "np.save(\"y_test\", y_test)"
      ]
    },
    {
      "cell_type": "code",
      "execution_count": 35,
      "metadata": {
        "id": "3bJyZMWaB9PR"
      },
      "outputs": [],
      "source": [
        "X_train, y_train = np.load(\"X_train.npy\"), np.load(\"y_train.npy\")"
      ]
    },
    {
      "cell_type": "code",
      "execution_count": 36,
      "metadata": {
        "id": "Ntrvu58UCCDt"
      },
      "outputs": [],
      "source": [
        " X_test, y_test = np.load(\"X_test.npy\"), np.load(\"y_test.npy\")"
      ]
    },
    {
      "cell_type": "code",
      "execution_count": 37,
      "metadata": {
        "id": "aGmapWw6CIwk"
      },
      "outputs": [],
      "source": [
        "from sklearn.linear_model import LogisticRegression\n",
        "from sklearn.metrics import accuracy_score, classification_report, confusion_matrix,precision_score,recall_score,f1_score\n"
      ]
    },
    {
      "cell_type": "code",
      "execution_count": 38,
      "metadata": {
        "id": "GK_SR0fQF0Wk"
      },
      "outputs": [],
      "source": [
        "from sklearn.metrics import precision_recall_fscore_support\n"
      ]
    },
    {
      "cell_type": "code",
      "execution_count": 39,
      "metadata": {
        "id": "QxaMD7inC3uu"
      },
      "outputs": [],
      "source": [
        "from sklearn.linear_model import LogisticRegression"
      ]
    },
    {
      "cell_type": "code",
      "execution_count": 40,
      "metadata": {
        "id": "zhJQjquaaPXV"
      },
      "outputs": [],
      "source": [
        "model = LogisticRegression(class_weight='balanced', solver='liblinear', max_iter=1000)\n"
      ]
    },
    {
      "cell_type": "code",
      "execution_count": 41,
      "metadata": {
        "id": "nHUZOCDYC7bu"
      },
      "outputs": [],
      "source": [
        "import wandb"
      ]
    },
    {
      "cell_type": "code",
      "execution_count": 42,
      "metadata": {
        "id": "HFkTWGOWC_xZ"
      },
      "outputs": [],
      "source": [
        "import time"
      ]
    },
    {
      "cell_type": "code",
      "execution_count": 43,
      "metadata": {
        "id": "qTKwTls_DSrk"
      },
      "outputs": [],
      "source": [
        "def train_eval_pipeline(model, train_data, test_data, name):\n",
        "    import time\n",
        "    import wandb\n",
        "    from sklearn.metrics import accuracy_score, precision_recall_fscore_support, classification_report\n",
        "\n",
        "    # Initialize Weights & Biases\n",
        "    wandb.init(project=\"Medical Noshows\", name=name)\n",
        "\n",
        "    # Segregate the datasets\n",
        "    (X_train, y_train) = train_data\n",
        "    (X_test, y_test) = test_data\n",
        "\n",
        "    # Train the model and log the metrics\n",
        "    start = time.time()\n",
        "    model.fit(X_train, y_train)\n",
        "    end = time.time()\n",
        "\n",
        "    train_time = end - start\n",
        "\n",
        "    prediction = model.predict(X_test)\n",
        "\n",
        "    wandb.log({\n",
        "        \"accuracy\": accuracy_score(y_test, prediction) * 100.0,\n",
        "        \"precision\": precision_recall_fscore_support(y_test, prediction, average='macro')[1],\n",
        "        \"Train Time\": train_time\n",
        "    })\n",
        "\n",
        "    print(\"Accuracy Score of the logistic regression classifier with the default hyperparameter values: {:.2f}%\".format(\n",
        "        accuracy_score(y_test, prediction) * 100.0))\n",
        "    print(\"\\n---- Classification report of the Logistic regression classifier ----\\n\")\n",
        "    print(classification_report(y_test, prediction, target_names=[\"Showed Up\", \"No Show\"]))#0-Showed up 1-No show\n"
      ]
    },
    {
      "cell_type": "code",
      "execution_count": 44,
      "metadata": {
        "id": "vC97AT1uDZQF"
      },
      "outputs": [],
      "source": [
        "from sklearn.linear_model import LogisticRegression\n",
        "\n",
        "logreg = LogisticRegression()\n"
      ]
    },
    {
      "cell_type": "code",
      "execution_count": null,
      "metadata": {
        "colab": {
          "background_save": true,
          "base_uri": "https://localhost:8080/",
          "height": 107
        },
        "id": "fWDpvVdDEsYE",
        "outputId": "69607c0f-620b-49a9-aae0-86d2ff405c1b"
      },
      "outputs": [
        {
          "output_type": "display_data",
          "data": {
            "text/plain": [
              "<IPython.core.display.Javascript object>"
            ],
            "application/javascript": [
              "\n",
              "        window._wandbApiKey = new Promise((resolve, reject) => {\n",
              "            function loadScript(url) {\n",
              "            return new Promise(function(resolve, reject) {\n",
              "                let newScript = document.createElement(\"script\");\n",
              "                newScript.onerror = reject;\n",
              "                newScript.onload = resolve;\n",
              "                document.body.appendChild(newScript);\n",
              "                newScript.src = url;\n",
              "            });\n",
              "            }\n",
              "            loadScript(\"https://cdn.jsdelivr.net/npm/postmate/build/postmate.min.js\").then(() => {\n",
              "            const iframe = document.createElement('iframe')\n",
              "            iframe.style.cssText = \"width:0;height:0;border:none\"\n",
              "            document.body.appendChild(iframe)\n",
              "            const handshake = new Postmate({\n",
              "                container: iframe,\n",
              "                url: 'https://wandb.ai/authorize'\n",
              "            });\n",
              "            const timeout = setTimeout(() => reject(\"Couldn't auto authenticate\"), 5000)\n",
              "            handshake.then(function(child) {\n",
              "                child.on('authorize', data => {\n",
              "                    clearTimeout(timeout)\n",
              "                    resolve(data)\n",
              "                });\n",
              "            });\n",
              "            })\n",
              "        });\n",
              "    "
            ]
          },
          "metadata": {}
        },
        {
          "output_type": "stream",
          "name": "stderr",
          "text": [
            "\u001b[34m\u001b[1mwandb\u001b[0m: Logging into wandb.ai. (Learn how to deploy a W&B server locally: https://wandb.me/wandb-server)\n",
            "\u001b[34m\u001b[1mwandb\u001b[0m: You can find your API key in your browser here: https://wandb.ai/authorize?ref=models\n",
            "wandb: Paste an API key from your profile and hit enter:"
          ]
        }
      ],
      "source": [
        "train_eval_pipeline(logreg, (X_train, y_train), (X_test, y_test), \"Logistic Regression\")"
      ]
    },
    {
      "cell_type": "markdown",
      "metadata": {
        "id": "vGQ2OAPxKHTj"
      },
      "source": [
        "The logistic Regression model has a 80% Accuracy but it does not predict any no shows,According to the model most of the recordings are show ups"
      ]
    },
    {
      "cell_type": "markdown",
      "metadata": {
        "id": "Ns5yrDCBGmEg"
      },
      "source": [
        "*USING RANDOM TREES METHOD*"
      ]
    },
    {
      "cell_type": "code",
      "execution_count": null,
      "metadata": {
        "id": "0Mrg1n49guw6"
      },
      "outputs": [],
      "source": [
        "import pandas as pd\n",
        "from sklearn.impute import SimpleImputer\n",
        "from sklearn.preprocessing import StandardScaler, OneHotEncoder\n",
        "from sklearn.pipeline import Pipeline\n",
        "from sklearn.compose import ColumnTransformer\n",
        "\n",
        "# Step 1: Load dataset\n",
        "df = pd.read_csv(path + \"/KaggleV2-May-2016.csv\")\n",
        "\n",
        "# Step 2: Drop ID columns and define X, y\n",
        "df_cleaned = df.drop(['PatientId', 'AppointmentID'], axis=1)\n",
        "X = df_cleaned.drop('No-show', axis=1)\n",
        "y = df_cleaned['No-show'].map({'No': 0, 'Yes': 1})\n",
        "\n",
        "# Step 3: Reduce cardinality of Neighbourhood\n",
        "top_neighbourhoods = X['Neighbourhood'].value_counts().nlargest(20).index\n",
        "X['Neighbourhood'] = X['Neighbourhood'].apply(lambda x: x if x in top_neighbourhoods else 'Other')\n",
        "\n",
        "# Step 4: Extract features from datetime columns\n",
        "X['ScheduledDay'] = pd.to_datetime(X['ScheduledDay'])\n",
        "X['AppointmentDay'] = pd.to_datetime(X['AppointmentDay'])\n",
        "X['ScheduledWeekday'] = X['ScheduledDay'].dt.dayofweek\n",
        "X['AppointmentWeekday'] = X['AppointmentDay'].dt.dayofweek\n",
        "X['WaitingDays'] = (X['AppointmentDay'] - X['ScheduledDay']).dt.days\n",
        "X = X.drop(['ScheduledDay', 'AppointmentDay'], axis=1)\n",
        "\n",
        "# Step 5: Recalculate column types AFTER cleaning\n",
        "numerical_cols = X.select_dtypes(include=['int64', 'float64']).columns.tolist()\n",
        "categorical_cols = X.select_dtypes(include=['object', 'category']).columns.tolist()\n",
        "\n",
        "# Step 6: Define imputers and encoder\n",
        "num_imputer = SimpleImputer(strategy='median')\n",
        "cat_imputer = SimpleImputer(strategy='most_frequent')\n",
        "cat_encoder = OneHotEncoder(handle_unknown='ignore', sparse_output=False)\n",
        "\n",
        "# Step 7: Build preprocessing pipeline\n",
        "preprocessor = ColumnTransformer(\n",
        "    transformers=[\n",
        "        ('num', Pipeline([\n",
        "            ('imputer', num_imputer),\n",
        "            ('scaler', StandardScaler())\n",
        "        ]), numerical_cols),\n",
        "\n",
        "        ('cat', Pipeline([\n",
        "            ('imputer', cat_imputer),\n",
        "            ('encoder', cat_encoder)\n",
        "        ]), categorical_cols)\n",
        "    ])\n",
        "\n",
        "# Step 8: Transform your data\n",
        "X_preprocessed = preprocessor.fit_transform(X)\n"
      ]
    },
    {
      "cell_type": "code",
      "execution_count": null,
      "metadata": {
        "id": "A0bkX9RdhJPj"
      },
      "outputs": [],
      "source": [
        "X_preprocessed"
      ]
    },
    {
      "cell_type": "markdown",
      "metadata": {
        "id": "sasHgDqknCt1"
      },
      "source": [
        " PCA (Principal Component Analysis) is required for this model as the system is slow and kept on crashing crashing due to high dimensionality."
      ]
    },
    {
      "cell_type": "code",
      "execution_count": null,
      "metadata": {
        "id": "d8I4v4VBiByv"
      },
      "outputs": [],
      "source": [
        "from sklearn.decomposition import PCA\n",
        "\n",
        "# Reduce dimensionality to, say, 2 components\n",
        "pca = PCA(n_components=2)\n",
        "X_pca = pca.fit_transform(X_preprocessed)\n",
        "\n",
        "# Check how much variance each component explains\n",
        "print(pca.explained_variance_ratio_)\n"
      ]
    },
    {
      "cell_type": "code",
      "execution_count": null,
      "metadata": {
        "id": "5QPoX9xSiSn_"
      },
      "outputs": [],
      "source": [
        "# Keep enough components to explain ~95% of the variance\n",
        "pca = PCA(n_components=0.95)  # Keep enough components to explain 95% of variance\n",
        "X_pca = pca.fit_transform(X_preprocessed)\n",
        "\n",
        "print(f\"Number of components selected: {pca.n_components_}\")\n",
        "print(f\"Explained variance by each: {pca.explained_variance_ratio_}\")\n"
      ]
    },
    {
      "cell_type": "markdown",
      "metadata": {
        "id": "ArzG4NymrKHL"
      },
      "source": [
        "*Modelling*"
      ]
    },
    {
      "cell_type": "code",
      "execution_count": null,
      "metadata": {
        "id": "03-CxLgCiiwj"
      },
      "outputs": [],
      "source": [
        "from sklearn.model_selection import train_test_split\n",
        "from sklearn.ensemble import RandomForestClassifier\n",
        "from sklearn.metrics import accuracy_score\n",
        "\n",
        "# Split the data\n",
        "X_train, X_test, y_train, y_test = train_test_split(X_pca, y, test_size=0.2, random_state=42)\n",
        "\n",
        "# Train a model\n",
        "clf = RandomForestClassifier()\n",
        "clf.fit(X_train, y_train)\n",
        "\n",
        "# Predict\n",
        "y_pred = clf.predict(X_test)\n",
        "\n",
        "# Evaluate\n",
        "print(\"Accuracy:\", accuracy_score(y_test, y_pred))\n"
      ]
    },
    {
      "cell_type": "markdown",
      "metadata": {
        "id": "30GtlDsRtTzT"
      },
      "source": [
        "The model is approximately 77% accurate"
      ]
    },
    {
      "cell_type": "code",
      "execution_count": null,
      "metadata": {
        "id": "NhxgQk66tcMf"
      },
      "outputs": [],
      "source": [
        "from sklearn.metrics import accuracy_score, precision_score, recall_score, f1_score, roc_auc_score, classification_report\n"
      ]
    },
    {
      "cell_type": "code",
      "execution_count": null,
      "metadata": {
        "id": "Pok7dGsate2G"
      },
      "outputs": [],
      "source": [
        "print(\"Threshold-based metrics:\")\n",
        "print(f\"Accuracy:  {accuracy_score(y_test, y_pred):.3f}\")\n",
        "print(f\"Precision: {precision_score(y_test, y_pred):.3f}\")\n",
        "print(f\"Recall:    {recall_score(y_test, y_pred):.3f}\")\n",
        "print(f\"F1-score:  {f1_score(y_test, y_pred):.3f}\")\n",
        "print(\"\\nClassification Report:\\n\", classification_report(y_test, y_pred))\n"
      ]
    },
    {
      "cell_type": "markdown",
      "metadata": {
        "id": "TneMtis2wd6g"
      },
      "source": [
        "The model isn’t good enough at predicting No-shows since Out of all patients the model predicted as no-shows, how many truly didn’t show up(precision) are only correctly predicted 37% and How many actual no-shows were correctly predicted(recall) is at 21%\n",
        "However it well predicts the patients that show up."
      ]
    },
    {
      "cell_type": "code",
      "execution_count": null,
      "metadata": {
        "id": "7GNduHUpykiU"
      },
      "outputs": [],
      "source": [
        "from sklearn.metrics import roc_auc_score\n",
        "\n",
        "# Predict class probabilities (for class 1 = No-show)\n",
        "y_proba = clf.predict_proba(X_test)[:, 1]\n",
        "\n",
        "# Calculate ROC-AUC score\n",
        "roc_auc = roc_auc_score(y_test, y_proba)\n",
        "print(f\"ROC-AUC Score: {roc_auc:.3f}\")\n"
      ]
    },
    {
      "cell_type": "markdown",
      "metadata": {
        "id": "3PTf1J7zynAP"
      },
      "source": [
        " Randomly picking one patient who actually missed their appointment and one who showed up, there's about a 69.2% chance that the model will correctly give a higher \"no-show\" score to the one who missed it"
      ]
    },
    {
      "cell_type": "markdown",
      "metadata": {
        "id": "QSHXGTew03kM"
      },
      "source": [
        "*Evaluating*"
      ]
    },
    {
      "cell_type": "markdown",
      "metadata": {
        "id": "Fj4gxtaqmhp4"
      },
      "source": [
        "Deploying"
      ]
    },
    {
      "cell_type": "code",
      "execution_count": null,
      "metadata": {
        "id": "szNCCf53mja7"
      },
      "outputs": [],
      "source": [
        ": pip install kaggle"
      ]
    },
    {
      "cell_type": "code",
      "execution_count": null,
      "metadata": {
        "id": "3gEfiRm0mnv6"
      },
      "outputs": [],
      "source": [
        "!pip install kaggle   # ✅ correct\n"
      ]
    },
    {
      "cell_type": "code",
      "execution_count": null,
      "metadata": {
        "id": "dcWFWIL1oOiM"
      },
      "outputs": [],
      "source": [
        "import streamlit as st\n",
        "import pandas as pd\n",
        "import pickle\n",
        "\n",
        "# Load model\n",
        "with open(\"no_show_model.pkl\", \"rb\") as f:\n",
        "    model = pickle.load(f)\n",
        "\n",
        "# Title\n",
        "st.title(\"No-Show Medical Appointment Predictor\")\n",
        "\n",
        "st.write(\"Fill in the details below:\")\n",
        "\n",
        "Age = st.slider(\"Age\", 0, 100, 25)\n",
        "Scholarship = st.selectbox(\"Scholarship\", [0, 1])\n",
        "Hipertension = st.selectbox(\"Hypertension\", [0, 1])\n",
        "Diabetes = st.selectbox(\"Diabetes\", [0, 1])\n",
        "Alcoholism = st.selectbox(\"Alcoholism\", [0, 1])\n",
        "Handcap = st.selectbox(\"Handcap\", [0, 1])\n",
        "SMS_received = st.selectbox(\"SMS Received\", [0, 1])\n",
        "Gender = st.selectbox(\"Gender\", ['Female', 'Male'])\n",
        "Gender = 0 if Gender == 'Female' else 1\n",
        "\n",
        "input_data = pd.DataFrame({\n",
        "    'Gender': [Gender],\n",
        "    'Age': [Age],\n",
        "    'Scholarship': [Scholarship],\n",
        "    'Hipertension': [Hipertension],\n",
        "    'Diabetes': [Diabetes],\n",
        "    'Alcoholism': [Alcoholism],\n",
        "    'Handcap': [Handcap],\n",
        "    'SMS_received': [SMS_received]\n",
        "})\n",
        "\n",
        "if st.button(\"Predict\"):\n",
        "    prediction = model.predict(input_data)[0]\n",
        "    result = \"❌ Will NOT show up\" if prediction == 1 else \"✅ Will show up\"\n",
        "    st.success(f\"Prediction: {result}\")\n"
      ]
    }
  ],
  "metadata": {
    "colab": {
      "provenance": [],
      "authorship_tag": "ABX9TyPwiDjOnzUSL/u0uLGF2WR0",
      "include_colab_link": true
    },
    "kernelspec": {
      "display_name": "Python 3",
      "name": "python3"
    },
    "language_info": {
      "name": "python"
    }
  },
  "nbformat": 4,
  "nbformat_minor": 0
}