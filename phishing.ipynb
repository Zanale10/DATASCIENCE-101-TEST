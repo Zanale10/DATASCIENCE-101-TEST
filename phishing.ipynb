{
  "nbformat": 4,
  "nbformat_minor": 0,
  "metadata": {
    "colab": {
      "provenance": [],
      "authorship_tag": "ABX9TyO7ekfTQe8H75QfU+poFon7",
      "include_colab_link": true
    },
    "kernelspec": {
      "name": "python3",
      "display_name": "Python 3"
    },
    "language_info": {
      "name": "python"
    }
  },
  "cells": [
    {
      "cell_type": "markdown",
      "metadata": {
        "id": "view-in-github",
        "colab_type": "text"
      },
      "source": [
        "<a href=\"https://colab.research.google.com/github/Zanale10/DATASCIENCE-101-TEST/blob/main/phishing.ipynb\" target=\"_parent\"><img src=\"https://colab.research.google.com/assets/colab-badge.svg\" alt=\"Open In Colab\"/></a>"
      ]
    },
    {
      "cell_type": "code",
      "execution_count": 2,
      "metadata": {
        "colab": {
          "base_uri": "https://localhost:8080/"
        },
        "id": "htdzOX0LvWzr",
        "outputId": "fd686a82-1851-4cfa-cf58-01a9b1b391d6"
      },
      "outputs": [
        {
          "output_type": "stream",
          "name": "stdout",
          "text": [
            "       having_IP_Address  URL_Length  Shortining_Service  having_At_Symbol  \\\n",
            "0                     -1           1                   1                 1   \n",
            "1                      1           1                   1                 1   \n",
            "2                      1           0                   1                 1   \n",
            "3                      1           0                   1                 1   \n",
            "4                      1           0                  -1                 1   \n",
            "...                  ...         ...                 ...               ...   \n",
            "11050                  1          -1                   1                -1   \n",
            "11051                 -1           1                   1                -1   \n",
            "11052                  1          -1                   1                 1   \n",
            "11053                 -1          -1                   1                 1   \n",
            "11054                 -1          -1                   1                 1   \n",
            "\n",
            "       double_slash_redirecting  Prefix_Suffix  having_Sub_Domain  \\\n",
            "0                            -1             -1                 -1   \n",
            "1                             1             -1                  0   \n",
            "2                             1             -1                 -1   \n",
            "3                             1             -1                 -1   \n",
            "4                             1             -1                  1   \n",
            "...                         ...            ...                ...   \n",
            "11050                         1              1                  1   \n",
            "11051                        -1             -1                  1   \n",
            "11052                         1             -1                  1   \n",
            "11053                         1             -1                 -1   \n",
            "11054                         1             -1                 -1   \n",
            "\n",
            "       SSLfinal_State  Domain_registeration_length  Favicon  ...  popUpWidnow  \\\n",
            "0                  -1                           -1        1  ...            1   \n",
            "1                   1                           -1        1  ...            1   \n",
            "2                  -1                           -1        1  ...            1   \n",
            "3                  -1                            1        1  ...            1   \n",
            "4                   1                           -1        1  ...           -1   \n",
            "...               ...                          ...      ...  ...          ...   \n",
            "11050               1                           -1       -1  ...           -1   \n",
            "11051              -1                           -1       -1  ...           -1   \n",
            "11052              -1                           -1        1  ...            1   \n",
            "11053              -1                            1       -1  ...           -1   \n",
            "11054              -1                            1        1  ...            1   \n",
            "\n",
            "       Iframe  age_of_domain  DNSRecord  web_traffic  Page_Rank  Google_Index  \\\n",
            "0           1             -1         -1           -1         -1             1   \n",
            "1           1             -1         -1            0         -1             1   \n",
            "2           1              1         -1            1         -1             1   \n",
            "3           1             -1         -1            1         -1             1   \n",
            "4           1             -1         -1            0         -1             1   \n",
            "...       ...            ...        ...          ...        ...           ...   \n",
            "11050      -1              1          1           -1         -1             1   \n",
            "11051       1              1          1            1          1             1   \n",
            "11052       1              1          1            1         -1             1   \n",
            "11053       1              1          1            1         -1             1   \n",
            "11054       1             -1          1           -1         -1            -1   \n",
            "\n",
            "       Links_pointing_to_page  Statistical_report  Result  \n",
            "0                           1                  -1      -1  \n",
            "1                           1                   1      -1  \n",
            "2                           0                  -1      -1  \n",
            "3                          -1                   1      -1  \n",
            "4                           1                   1       1  \n",
            "...                       ...                 ...     ...  \n",
            "11050                       1                   1       1  \n",
            "11051                      -1                   1      -1  \n",
            "11052                       0                   1      -1  \n",
            "11053                       1                   1      -1  \n",
            "11054                       1                  -1      -1  \n",
            "\n",
            "[11055 rows x 31 columns]\n"
          ]
        }
      ],
      "source": [
        "import pandas as pd\n",
        "\n",
        "# Correct way to read a CSV file\n",
        "df = pd.read_csv(\"/Phishing(2).csv\")\n",
        "\n",
        "# Display the dataframe\n",
        "print(df)\n"
      ]
    },
    {
      "cell_type": "code",
      "source": [
        "df_transposed = df.T\n",
        "print(df_transposed)\n"
      ],
      "metadata": {
        "colab": {
          "base_uri": "https://localhost:8080/"
        },
        "id": "iooRTmLZwPSb",
        "outputId": "ec440612-cf47-4331-f1e5-82557ea78ed4"
      },
      "execution_count": 3,
      "outputs": [
        {
          "output_type": "stream",
          "name": "stdout",
          "text": [
            "                             0      1      2      3      4      5      6      \\\n",
            "having_IP_Address               -1      1      1      1      1     -1      1   \n",
            "URL_Length                       1      1      0      0      0      0      0   \n",
            "Shortining_Service               1      1      1      1     -1     -1     -1   \n",
            "having_At_Symbol                 1      1      1      1      1      1      1   \n",
            "double_slash_redirecting        -1      1      1      1      1     -1      1   \n",
            "Prefix_Suffix                   -1     -1     -1     -1     -1     -1     -1   \n",
            "having_Sub_Domain               -1      0     -1     -1      1      1     -1   \n",
            "SSLfinal_State                  -1      1     -1     -1      1      1     -1   \n",
            "Domain_registeration_length     -1     -1     -1      1     -1     -1      1   \n",
            "Favicon                          1      1      1      1      1      1      1   \n",
            "port                             1      1      1      1      1      1      1   \n",
            "HTTPS_token                     -1     -1     -1     -1      1     -1      1   \n",
            "Request_URL                      1      1      1     -1      1      1     -1   \n",
            "URL_of_Anchor                   -1      0      0      0      0      0     -1   \n",
            "Links_in_tags                    1     -1     -1      0      0      0      0   \n",
            "SFH                             -1     -1     -1     -1     -1     -1     -1   \n",
            "Submitting_to_email             -1      1     -1      1      1     -1     -1   \n",
            "Abnormal_URL                    -1      1     -1      1      1     -1     -1   \n",
            "Redirect                         0      0      0      0      0      0      0   \n",
            "on_mouseover                     1      1      1      1     -1      1      1   \n",
            "RightClick                       1      1      1      1      1      1      1   \n",
            "popUpWidnow                      1      1      1      1     -1      1      1   \n",
            "Iframe                           1      1      1      1      1      1      1   \n",
            "age_of_domain                   -1     -1      1     -1     -1      1      1   \n",
            "DNSRecord                       -1     -1     -1     -1     -1      1     -1   \n",
            "web_traffic                     -1      0      1      1      0      1     -1   \n",
            "Page_Rank                       -1     -1     -1     -1     -1     -1     -1   \n",
            "Google_Index                     1      1      1      1      1      1      1   \n",
            "Links_pointing_to_page           1      1      0     -1      1     -1      0   \n",
            "Statistical_report              -1      1     -1      1      1     -1     -1   \n",
            "Result                          -1     -1     -1     -1      1      1     -1   \n",
            "\n",
            "                             7      8      9      ...  11045  11046  11047  \\\n",
            "having_IP_Address                1      1      1  ...      1     -1     -1   \n",
            "URL_Length                       0      0      1  ...     -1     -1     -1   \n",
            "Shortining_Service               1     -1     -1  ...      1      1      1   \n",
            "having_At_Symbol                 1      1      1  ...      1      1      1   \n",
            "double_slash_redirecting         1      1      1  ...      1      1      1   \n",
            "Prefix_Suffix                   -1     -1     -1  ...     -1     -1     -1   \n",
            "having_Sub_Domain               -1      1     -1  ...      1      1      1   \n",
            "SSLfinal_State                  -1      1      1  ...     -1      1     -1   \n",
            "Domain_registeration_length      1     -1     -1  ...     -1     -1     -1   \n",
            "Favicon                          1      1      1  ...      1      1      1   \n",
            "port                             1      1      1  ...      1      1      1   \n",
            "HTTPS_token                     -1     -1      1  ...      1      1     -1   \n",
            "Request_URL                     -1      1      1  ...      1     -1      1   \n",
            "URL_of_Anchor                    0      0      0  ...      0      0     -1   \n",
            "Links_in_tags                   -1      1      1  ...      1      1     -1   \n",
            "SFH                             -1     -1     -1  ...     -1      1     -1   \n",
            "Submitting_to_email              1      1      1  ...      1      1     -1   \n",
            "Abnormal_URL                     1      1      1  ...      1      1      1   \n",
            "Redirect                         0      0      0  ...      0      0      0   \n",
            "on_mouseover                     1      1      1  ...      1      1      1   \n",
            "RightClick                       1      1      1  ...      1      1      1   \n",
            "popUpWidnow                      1      1      1  ...      1      1      1   \n",
            "Iframe                           1      1      1  ...      1      1      1   \n",
            "age_of_domain                   -1      1      1  ...      1      1      1   \n",
            "DNSRecord                       -1     -1     -1  ...      1      1      1   \n",
            "web_traffic                      0      1      0  ...      0      0      1   \n",
            "Page_Rank                       -1      1     -1  ...     -1     -1     -1   \n",
            "Google_Index                     1      1      1  ...      1      1      1   \n",
            "Links_pointing_to_page           0      0      0  ...      0      1      0   \n",
            "Statistical_report               1      1      1  ...      1      1      1   \n",
            "Result                          -1      1     -1  ...      1      1     -1   \n",
            "\n",
            "                             11048  11049  11050  11051  11052  11053  11054  \n",
            "having_IP_Address                1     -1      1     -1      1     -1     -1  \n",
            "URL_Length                      -1     -1     -1      1     -1     -1     -1  \n",
            "Shortining_Service               1      1      1      1      1      1      1  \n",
            "having_At_Symbol                 1      1     -1     -1      1      1      1  \n",
            "double_slash_redirecting         1     -1      1     -1      1      1      1  \n",
            "Prefix_Suffix                   -1     -1      1     -1     -1     -1     -1  \n",
            "having_Sub_Domain               -1      1      1      1      1     -1     -1  \n",
            "SSLfinal_State                   1     -1      1     -1     -1     -1     -1  \n",
            "Domain_registeration_length      1      1     -1     -1     -1      1      1  \n",
            "Favicon                          1      1     -1     -1      1     -1      1  \n",
            "port                             1      1     -1     -1      1      1      1  \n",
            "HTTPS_token                      1     -1      1      1      1      1      1  \n",
            "Request_URL                     -1     -1      1      1      1     -1     -1  \n",
            "URL_of_Anchor                    0      0      1     -1      0     -1     -1  \n",
            "Links_in_tags                    0     -1      1     -1     -1      1      0  \n",
            "SFH                             -1     -1     -1      0     -1     -1     -1  \n",
            "Submitting_to_email              1      1     -1     -1      1      1      1  \n",
            "Abnormal_URL                     1      1      1     -1      1      1      1  \n",
            "Redirect                         0      1      0      1      0      0      0  \n",
            "on_mouseover                     1      1     -1     -1      1     -1      1  \n",
            "RightClick                       1      1     -1      1      1      1      1  \n",
            "popUpWidnow                      1      1     -1     -1      1     -1      1  \n",
            "Iframe                           1      1     -1      1      1      1      1  \n",
            "age_of_domain                    1     -1      1      1      1      1     -1  \n",
            "DNSRecord                        1      1      1      1      1      1      1  \n",
            "web_traffic                      0      1     -1      1      1      1     -1  \n",
            "Page_Rank                       -1     -1     -1      1     -1     -1     -1  \n",
            "Google_Index                     1      1      1      1      1      1     -1  \n",
            "Links_pointing_to_page           0      1      1     -1      0      1      1  \n",
            "Statistical_report               1      1      1      1      1      1     -1  \n",
            "Result                           1     -1      1     -1     -1     -1     -1  \n",
            "\n",
            "[31 rows x 11055 columns]\n"
          ]
        }
      ]
    },
    {
      "cell_type": "code",
      "source": [
        "sample_df = df.sample(5)\n",
        "\n",
        "print(sample_df)"
      ],
      "metadata": {
        "colab": {
          "base_uri": "https://localhost:8080/"
        },
        "id": "pPhr5NhywUEV",
        "outputId": "01f3114d-8e89-4bea-dc7e-01a87dab7e6e"
      },
      "execution_count": 4,
      "outputs": [
        {
          "output_type": "stream",
          "name": "stdout",
          "text": [
            "      having_IP_Address  URL_Length  Shortining_Service  having_At_Symbol  \\\n",
            "4723                  1          -1                   1                 1   \n",
            "3877                  1          -1                   1                 1   \n",
            "6726                 -1          -1                   1                 1   \n",
            "6464                 -1          -1                   1                 1   \n",
            "9780                 -1          -1                   1                 1   \n",
            "\n",
            "      double_slash_redirecting  Prefix_Suffix  having_Sub_Domain  \\\n",
            "4723                         1             -1                  0   \n",
            "3877                         1             -1                 -1   \n",
            "6726                         1             -1                  1   \n",
            "6464                         1             -1                  0   \n",
            "9780                         1             -1                  1   \n",
            "\n",
            "      SSLfinal_State  Domain_registeration_length  Favicon  ...  popUpWidnow  \\\n",
            "4723              -1                            1        1  ...            1   \n",
            "3877               1                           -1        1  ...            1   \n",
            "6726               1                           -1        1  ...            1   \n",
            "6464               0                            1        1  ...            1   \n",
            "9780               1                           -1        1  ...            1   \n",
            "\n",
            "      Iframe  age_of_domain  DNSRecord  web_traffic  Page_Rank  Google_Index  \\\n",
            "4723       1             -1          1           -1         -1             1   \n",
            "3877       1              1          1            1         -1             1   \n",
            "6726       1             -1          1           -1         -1             1   \n",
            "6464       1             -1          1           -1         -1             1   \n",
            "9780       1              1          1            0         -1            -1   \n",
            "\n",
            "      Links_pointing_to_page  Statistical_report  Result  \n",
            "4723                       0                   1      -1  \n",
            "3877                       0                   1       1  \n",
            "6726                       1                   1       1  \n",
            "6464                       1                   1      -1  \n",
            "9780                       1                   1      -1  \n",
            "\n",
            "[5 rows x 31 columns]\n"
          ]
        }
      ]
    }
  ]
}