{
  "nbformat": 4,
  "nbformat_minor": 0,
  "metadata": {
    "colab": {
      "provenance": [],
      "authorship_tag": "ABX9TyOgx0l8nMc0Z/+bo3K77zUQ",
      "include_colab_link": true
    },
    "kernelspec": {
      "name": "python3",
      "display_name": "Python 3"
    },
    "language_info": {
      "name": "python"
    }
  },
  "cells": [
    {
      "cell_type": "markdown",
      "metadata": {
        "id": "view-in-github",
        "colab_type": "text"
      },
      "source": [
        "<a href=\"https://colab.research.google.com/github/Zanale10/DATASCIENCE-101-TEST/blob/main/FINTECH_COMPANY.ipynb\" target=\"_parent\"><img src=\"https://colab.research.google.com/assets/colab-badge.svg\" alt=\"Open In Colab\"/></a>"
      ]
    },
    {
      "cell_type": "markdown",
      "source": [
        "RAQUEL ZANALE ONYANGO\n",
        "\n",
        "\n",
        "DSA 6101 – Principles of Data Science (Revision Assignment )"
      ],
      "metadata": {
        "id": "g75HrA461-kl"
      }
    },
    {
      "cell_type": "markdown",
      "source": [
        "**Problem Statement**\n",
        "\n",
        "A leading pan-African fintech company is facing critical challenges, including predicting customer churn, detecting fraudulent transactions, and improving business visibility. To address these issues, we are building an intelligent, real-time customer insights platform that not only predicts churn and identifies fraud but also provides executives with clear, actionable insights through intuitive dashboards.\n",
        "The platform will be designed to process high volumes of transaction data efficiently, support continuous model development and deployment, and uphold ethical AI standards ensuring fairness, transparency, and regulatory compliance across all operations."
      ],
      "metadata": {
        "id": "_dWiSU0836QC"
      }
    },
    {
      "cell_type": "markdown",
      "source": [],
      "metadata": {
        "id": "DQ9B1feP4Gug"
      }
    },
    {
      "cell_type": "code",
      "execution_count": null,
      "metadata": {
        "id": "MbiXrJt-19TN"
      },
      "outputs": [],
      "source": []
    }
  ]
}